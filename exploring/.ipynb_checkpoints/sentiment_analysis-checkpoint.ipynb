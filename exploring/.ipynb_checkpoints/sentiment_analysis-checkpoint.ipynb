{
 "cells": [
  {
   "cell_type": "code",
   "execution_count": 225,
   "id": "d57b7666-214b-474a-adbc-542e72d94066",
   "metadata": {
    "tags": []
   },
   "outputs": [],
   "source": [
    "import pandas as pd\n",
    "import numpy as np\n",
    "import zipfile"
   ]
  },
  {
   "cell_type": "code",
   "execution_count": 491,
   "id": "64c505db-aaed-4d3f-908d-537df4352fd0",
   "metadata": {
    "tags": []
   },
   "outputs": [
    {
     "data": {
      "text/html": [
       "<div>\n",
       "<style scoped>\n",
       "    .dataframe tbody tr th:only-of-type {\n",
       "        vertical-align: middle;\n",
       "    }\n",
       "\n",
       "    .dataframe tbody tr th {\n",
       "        vertical-align: top;\n",
       "    }\n",
       "\n",
       "    .dataframe thead th {\n",
       "        text-align: right;\n",
       "    }\n",
       "</style>\n",
       "<table border=\"1\" class=\"dataframe\">\n",
       "  <thead>\n",
       "    <tr style=\"text-align: right;\">\n",
       "      <th></th>\n",
       "      <th>Season</th>\n",
       "      <th>Week</th>\n",
       "      <th>Day</th>\n",
       "      <th>Date</th>\n",
       "      <th>Time (ET)</th>\n",
       "      <th>Unnamed: 5</th>\n",
       "      <th>Favorite</th>\n",
       "      <th>Score</th>\n",
       "      <th>Spread</th>\n",
       "      <th>Unnamed: 9</th>\n",
       "      <th>...</th>\n",
       "      <th>Notes</th>\n",
       "      <th>GameHub/RedZone</th>\n",
       "      <th>Game thread link?</th>\n",
       "      <th>Post-game thread link?</th>\n",
       "      <th>Game thread</th>\n",
       "      <th>Post game thread</th>\n",
       "      <th>GameHub Scraped</th>\n",
       "      <th>Game thread scraped</th>\n",
       "      <th>Post game thread Scraped</th>\n",
       "      <th>Subscribers (in thousands)</th>\n",
       "    </tr>\n",
       "  </thead>\n",
       "  <tbody>\n",
       "    <tr>\n",
       "      <th>0</th>\n",
       "      <td>2017</td>\n",
       "      <td>1</td>\n",
       "      <td>Thu</td>\n",
       "      <td>2017-09-07</td>\n",
       "      <td>8:30</td>\n",
       "      <td>@</td>\n",
       "      <td>New England Patriots</td>\n",
       "      <td>L 27-42</td>\n",
       "      <td>L -8</td>\n",
       "      <td>NaN</td>\n",
       "      <td>...</td>\n",
       "      <td>NaN</td>\n",
       "      <td>NaN</td>\n",
       "      <td>NaN</td>\n",
       "      <td>NaN</td>\n",
       "      <td>https://www.reddit.com/r/nfl/comments/6yr619/g...</td>\n",
       "      <td>https://www.reddit.com/r/nfl/comments/6ysc10/p...</td>\n",
       "      <td>NaN</td>\n",
       "      <td>[3193, ('Dear Falcons fans: are you guys ready...</td>\n",
       "      <td>[2781, ('I\\'m imagining a world where the Patr...</td>\n",
       "      <td>640</td>\n",
       "    </tr>\n",
       "    <tr>\n",
       "      <th>1</th>\n",
       "      <td>2017</td>\n",
       "      <td>1</td>\n",
       "      <td>Sun</td>\n",
       "      <td>2017-09-10</td>\n",
       "      <td>1:00</td>\n",
       "      <td>@</td>\n",
       "      <td>Buffalo Bills</td>\n",
       "      <td>W 21-12</td>\n",
       "      <td>W -7</td>\n",
       "      <td>NaN</td>\n",
       "      <td>...</td>\n",
       "      <td>NaN</td>\n",
       "      <td>https://www.reddit.com/r/nfl/comments/6z90qu/g...</td>\n",
       "      <td>NaN</td>\n",
       "      <td>1.0</td>\n",
       "      <td>https://www.reddit.com/r/nfl/comments/6z97il/g...</td>\n",
       "      <td>https://www.reddit.com/r/nfl/comments/6zajs1/p...</td>\n",
       "      <td>[240, ('Bitter-sweet start to the NFL season w...</td>\n",
       "      <td>[109, ('I\\'m a Jets fan. I\\'m a Texas A&amp;M fan....</td>\n",
       "      <td>[120, ('Bills number 1 seed in the AFCE!', 194...</td>\n",
       "      <td>640</td>\n",
       "    </tr>\n",
       "    <tr>\n",
       "      <th>2</th>\n",
       "      <td>2017</td>\n",
       "      <td>1</td>\n",
       "      <td>Sun</td>\n",
       "      <td>2017-09-10</td>\n",
       "      <td>1:00</td>\n",
       "      <td>NaN</td>\n",
       "      <td>Atlanta Falcons</td>\n",
       "      <td>W 23-17</td>\n",
       "      <td>L -6.5</td>\n",
       "      <td>@</td>\n",
       "      <td>...</td>\n",
       "      <td>NaN</td>\n",
       "      <td>https://www.reddit.com/r/nfl/comments/6z90qu/g...</td>\n",
       "      <td>NaN</td>\n",
       "      <td>1.0</td>\n",
       "      <td>https://www.reddit.com/r/nfl/comments/6z97gn/g...</td>\n",
       "      <td>https://www.reddit.com/r/nfl/comments/6zajuc/p...</td>\n",
       "      <td>[240, ('Bitter-sweet start to the NFL season w...</td>\n",
       "      <td>[321, ('Wow this national anthem singer is a f...</td>\n",
       "      <td>[351, (\"We just went down to the wire against ...</td>\n",
       "      <td>640</td>\n",
       "    </tr>\n",
       "    <tr>\n",
       "      <th>3</th>\n",
       "      <td>2017</td>\n",
       "      <td>1</td>\n",
       "      <td>Sun</td>\n",
       "      <td>2017-09-10</td>\n",
       "      <td>1:00</td>\n",
       "      <td>@</td>\n",
       "      <td>Cincinnati Bengals</td>\n",
       "      <td>L 0-20</td>\n",
       "      <td>L -2.5</td>\n",
       "      <td>NaN</td>\n",
       "      <td>...</td>\n",
       "      <td>NaN</td>\n",
       "      <td>https://www.reddit.com/r/nfl/comments/6z90qu/g...</td>\n",
       "      <td>NaN</td>\n",
       "      <td>1.0</td>\n",
       "      <td>https://www.reddit.com/r/nfl/comments/6z97hl/g...</td>\n",
       "      <td>https://www.reddit.com/r/nfl/comments/6zajr0/p...</td>\n",
       "      <td>[240, ('Bitter-sweet start to the NFL season w...</td>\n",
       "      <td>[192, (\"Man I hope Woodhead stays healthy for ...</td>\n",
       "      <td>[293, ('[Summary of this game](https://pbs.twi...</td>\n",
       "      <td>640</td>\n",
       "    </tr>\n",
       "    <tr>\n",
       "      <th>4</th>\n",
       "      <td>2017</td>\n",
       "      <td>1</td>\n",
       "      <td>Sun</td>\n",
       "      <td>2017-09-10</td>\n",
       "      <td>1:00</td>\n",
       "      <td>NaN</td>\n",
       "      <td>Pittsburgh Steelers</td>\n",
       "      <td>W 21-18</td>\n",
       "      <td>L -10</td>\n",
       "      <td>@</td>\n",
       "      <td>...</td>\n",
       "      <td>NaN</td>\n",
       "      <td>https://www.reddit.com/r/nfl/comments/6z90qu/g...</td>\n",
       "      <td>NaN</td>\n",
       "      <td>1.0</td>\n",
       "      <td>https://www.reddit.com/r/nfl/comments/6z97l9/g...</td>\n",
       "      <td>https://www.reddit.com/r/nfl/comments/6zajwi/p...</td>\n",
       "      <td>[240, ('Bitter-sweet start to the NFL season w...</td>\n",
       "      <td>[367, (\"1 drive no turnovers. WE'VE TURNED THE...</td>\n",
       "      <td>[383, (\"Don't let this distract you from the f...</td>\n",
       "      <td>640</td>\n",
       "    </tr>\n",
       "  </tbody>\n",
       "</table>\n",
       "<p>5 rows × 22 columns</p>\n",
       "</div>"
      ],
      "text/plain": [
       "   Season  Week  Day       Date Time (ET) Unnamed: 5              Favorite  \\\n",
       "0    2017     1  Thu 2017-09-07      8:30          @  New England Patriots   \n",
       "1    2017     1  Sun 2017-09-10      1:00          @         Buffalo Bills   \n",
       "2    2017     1  Sun 2017-09-10      1:00        NaN       Atlanta Falcons   \n",
       "3    2017     1  Sun 2017-09-10      1:00          @    Cincinnati Bengals   \n",
       "4    2017     1  Sun 2017-09-10      1:00        NaN   Pittsburgh Steelers   \n",
       "\n",
       "     Score  Spread Unnamed: 9  ... Notes  \\\n",
       "0  L 27-42    L -8        NaN  ...   NaN   \n",
       "1  W 21-12    W -7        NaN  ...   NaN   \n",
       "2  W 23-17  L -6.5          @  ...   NaN   \n",
       "3   L 0-20  L -2.5        NaN  ...   NaN   \n",
       "4  W 21-18   L -10          @  ...   NaN   \n",
       "\n",
       "                                     GameHub/RedZone Game thread link?  \\\n",
       "0                                                NaN               NaN   \n",
       "1  https://www.reddit.com/r/nfl/comments/6z90qu/g...               NaN   \n",
       "2  https://www.reddit.com/r/nfl/comments/6z90qu/g...               NaN   \n",
       "3  https://www.reddit.com/r/nfl/comments/6z90qu/g...               NaN   \n",
       "4  https://www.reddit.com/r/nfl/comments/6z90qu/g...               NaN   \n",
       "\n",
       "  Post-game thread link?                                        Game thread  \\\n",
       "0                    NaN  https://www.reddit.com/r/nfl/comments/6yr619/g...   \n",
       "1                    1.0  https://www.reddit.com/r/nfl/comments/6z97il/g...   \n",
       "2                    1.0  https://www.reddit.com/r/nfl/comments/6z97gn/g...   \n",
       "3                    1.0  https://www.reddit.com/r/nfl/comments/6z97hl/g...   \n",
       "4                    1.0  https://www.reddit.com/r/nfl/comments/6z97l9/g...   \n",
       "\n",
       "                                    Post game thread  \\\n",
       "0  https://www.reddit.com/r/nfl/comments/6ysc10/p...   \n",
       "1  https://www.reddit.com/r/nfl/comments/6zajs1/p...   \n",
       "2  https://www.reddit.com/r/nfl/comments/6zajuc/p...   \n",
       "3  https://www.reddit.com/r/nfl/comments/6zajr0/p...   \n",
       "4  https://www.reddit.com/r/nfl/comments/6zajwi/p...   \n",
       "\n",
       "                                     GameHub Scraped  \\\n",
       "0                                                NaN   \n",
       "1  [240, ('Bitter-sweet start to the NFL season w...   \n",
       "2  [240, ('Bitter-sweet start to the NFL season w...   \n",
       "3  [240, ('Bitter-sweet start to the NFL season w...   \n",
       "4  [240, ('Bitter-sweet start to the NFL season w...   \n",
       "\n",
       "                                 Game thread scraped  \\\n",
       "0  [3193, ('Dear Falcons fans: are you guys ready...   \n",
       "1  [109, ('I\\'m a Jets fan. I\\'m a Texas A&M fan....   \n",
       "2  [321, ('Wow this national anthem singer is a f...   \n",
       "3  [192, (\"Man I hope Woodhead stays healthy for ...   \n",
       "4  [367, (\"1 drive no turnovers. WE'VE TURNED THE...   \n",
       "\n",
       "                            Post game thread Scraped  \\\n",
       "0  [2781, ('I\\'m imagining a world where the Patr...   \n",
       "1  [120, ('Bills number 1 seed in the AFCE!', 194...   \n",
       "2  [351, (\"We just went down to the wire against ...   \n",
       "3  [293, ('[Summary of this game](https://pbs.twi...   \n",
       "4  [383, (\"Don't let this distract you from the f...   \n",
       "\n",
       "  Subscribers (in thousands)  \n",
       "0                        640  \n",
       "1                        640  \n",
       "2                        640  \n",
       "3                        640  \n",
       "4                        640  \n",
       "\n",
       "[5 rows x 22 columns]"
      ]
     },
     "execution_count": 491,
     "metadata": {},
     "output_type": "execute_result"
    }
   ],
   "source": [
    "with zipfile.ZipFile(\"../data/reddit_scrape.csv.zip\") as z:\n",
    "    with z.open(\"reddit_scrape.csv\") as f:\n",
    "        reddit_df = pd.read_csv(f)\n",
    "\n",
    "reddit_df['Date'] = pd.to_datetime(reddit_df['Date'])    \n",
    "reddit_df.head()"
   ]
  },
  {
   "cell_type": "code",
   "execution_count": 515,
   "id": "4b970f37-39db-42b7-ab62-85c0737ee01c",
   "metadata": {
    "tags": []
   },
   "outputs": [
    {
     "ename": "ValueError",
     "evalue": "Length of values (3130) does not match length of index (1567)",
     "output_type": "error",
     "traceback": [
      "\u001b[0;31m---------------------------------------------------------------------------\u001b[0m",
      "\u001b[0;31mValueError\u001b[0m                                Traceback (most recent call last)",
      "Cell \u001b[0;32mIn[515], line 5\u001b[0m\n\u001b[1;32m      2\u001b[0m \u001b[38;5;28;01mfor\u001b[39;00m col \u001b[38;5;129;01min\u001b[39;00m scrape_cols: \u001b[38;5;66;03m# converts strings to lists\u001b[39;00m\n\u001b[1;32m      3\u001b[0m     reddit_df[col] \u001b[38;5;241m=\u001b[39m reddit_df[col]\u001b[38;5;241m.\u001b[39mapply(\u001b[38;5;28;01mlambda\u001b[39;00m x: \u001b[38;5;28meval\u001b[39m(x) \u001b[38;5;28;01mif\u001b[39;00m \u001b[38;5;28mtype\u001b[39m(x)\u001b[38;5;241m==\u001b[39m\u001b[38;5;28mstr\u001b[39m \u001b[38;5;28;01melse\u001b[39;00m x)\n\u001b[0;32m----> 5\u001b[0m reddit_df[\u001b[38;5;124m'\u001b[39m\u001b[38;5;124mall comments\u001b[39m\u001b[38;5;124m'\u001b[39m] \u001b[38;5;241m=\u001b[39m [lst[\u001b[38;5;241m1\u001b[39m:] \u001b[38;5;28;01mfor\u001b[39;00m lst \u001b[38;5;129;01min\u001b[39;00m reddit_df\u001b[38;5;241m.\u001b[39mloc[:,\u001b[38;5;124m'\u001b[39m\u001b[38;5;124mGame thread scraped\u001b[39m\u001b[38;5;124m'\u001b[39m]] \\\n\u001b[1;32m      6\u001b[0m                             \u001b[38;5;241m+\u001b[39m [lst[\u001b[38;5;241m1\u001b[39m:] \u001b[38;5;28;01mfor\u001b[39;00m lst \u001b[38;5;129;01min\u001b[39;00m reddit_df\u001b[38;5;241m.\u001b[39mloc[:,\u001b[38;5;124m'\u001b[39m\u001b[38;5;124mPost game thread Scraped\u001b[39m\u001b[38;5;124m'\u001b[39m] \u001b[38;5;28;01mif\u001b[39;00m \u001b[38;5;28mtype\u001b[39m(lst)\u001b[38;5;241m==\u001b[39m\u001b[38;5;28mlist\u001b[39m]\n\u001b[1;32m      7\u001b[0m reddit_df\u001b[38;5;241m.\u001b[39mloc[reddit_df[\u001b[38;5;124m'\u001b[39m\u001b[38;5;124mall comments\u001b[39m\u001b[38;5;124m'\u001b[39m]\u001b[38;5;241m.\u001b[39misna(),\u001b[38;5;124m'\u001b[39m\u001b[38;5;124mall comments\u001b[39m\u001b[38;5;124m'\u001b[39m] \u001b[38;5;241m=\u001b[39m \\\n\u001b[1;32m      8\u001b[0m         reddit_df\u001b[38;5;241m.\u001b[39mloc[reddit_df[\u001b[38;5;124m'\u001b[39m\u001b[38;5;124mall comments\u001b[39m\u001b[38;5;124m'\u001b[39m]\u001b[38;5;241m.\u001b[39misna(),\u001b[38;5;124m'\u001b[39m\u001b[38;5;124mGame thread scraped\u001b[39m\u001b[38;5;124m'\u001b[39m]\n",
      "File \u001b[0;32m/opt/homebrew/Caskroom/miniforge/base/envs/sklearn-env/lib/python3.11/site-packages/pandas/core/frame.py:3980\u001b[0m, in \u001b[0;36mDataFrame.__setitem__\u001b[0;34m(self, key, value)\u001b[0m\n\u001b[1;32m   3977\u001b[0m     \u001b[38;5;28mself\u001b[39m\u001b[38;5;241m.\u001b[39m_setitem_array([key], value)\n\u001b[1;32m   3978\u001b[0m \u001b[38;5;28;01melse\u001b[39;00m:\n\u001b[1;32m   3979\u001b[0m     \u001b[38;5;66;03m# set column\u001b[39;00m\n\u001b[0;32m-> 3980\u001b[0m     \u001b[38;5;28mself\u001b[39m\u001b[38;5;241m.\u001b[39m_set_item(key, value)\n",
      "File \u001b[0;32m/opt/homebrew/Caskroom/miniforge/base/envs/sklearn-env/lib/python3.11/site-packages/pandas/core/frame.py:4174\u001b[0m, in \u001b[0;36mDataFrame._set_item\u001b[0;34m(self, key, value)\u001b[0m\n\u001b[1;32m   4164\u001b[0m \u001b[38;5;28;01mdef\u001b[39;00m \u001b[38;5;21m_set_item\u001b[39m(\u001b[38;5;28mself\u001b[39m, key, value) \u001b[38;5;241m-\u001b[39m\u001b[38;5;241m>\u001b[39m \u001b[38;5;28;01mNone\u001b[39;00m:\n\u001b[1;32m   4165\u001b[0m \u001b[38;5;250m    \u001b[39m\u001b[38;5;124;03m\"\"\"\u001b[39;00m\n\u001b[1;32m   4166\u001b[0m \u001b[38;5;124;03m    Add series to DataFrame in specified column.\u001b[39;00m\n\u001b[1;32m   4167\u001b[0m \n\u001b[0;32m   (...)\u001b[0m\n\u001b[1;32m   4172\u001b[0m \u001b[38;5;124;03m    ensure homogeneity.\u001b[39;00m\n\u001b[1;32m   4173\u001b[0m \u001b[38;5;124;03m    \"\"\"\u001b[39;00m\n\u001b[0;32m-> 4174\u001b[0m     value \u001b[38;5;241m=\u001b[39m \u001b[38;5;28mself\u001b[39m\u001b[38;5;241m.\u001b[39m_sanitize_column(value)\n\u001b[1;32m   4176\u001b[0m     \u001b[38;5;28;01mif\u001b[39;00m (\n\u001b[1;32m   4177\u001b[0m         key \u001b[38;5;129;01min\u001b[39;00m \u001b[38;5;28mself\u001b[39m\u001b[38;5;241m.\u001b[39mcolumns\n\u001b[1;32m   4178\u001b[0m         \u001b[38;5;129;01mand\u001b[39;00m value\u001b[38;5;241m.\u001b[39mndim \u001b[38;5;241m==\u001b[39m \u001b[38;5;241m1\u001b[39m\n\u001b[1;32m   4179\u001b[0m         \u001b[38;5;129;01mand\u001b[39;00m \u001b[38;5;129;01mnot\u001b[39;00m is_extension_array_dtype(value)\n\u001b[1;32m   4180\u001b[0m     ):\n\u001b[1;32m   4181\u001b[0m         \u001b[38;5;66;03m# broadcast across multiple columns if necessary\u001b[39;00m\n\u001b[1;32m   4182\u001b[0m         \u001b[38;5;28;01mif\u001b[39;00m \u001b[38;5;129;01mnot\u001b[39;00m \u001b[38;5;28mself\u001b[39m\u001b[38;5;241m.\u001b[39mcolumns\u001b[38;5;241m.\u001b[39mis_unique \u001b[38;5;129;01mor\u001b[39;00m \u001b[38;5;28misinstance\u001b[39m(\u001b[38;5;28mself\u001b[39m\u001b[38;5;241m.\u001b[39mcolumns, MultiIndex):\n",
      "File \u001b[0;32m/opt/homebrew/Caskroom/miniforge/base/envs/sklearn-env/lib/python3.11/site-packages/pandas/core/frame.py:4915\u001b[0m, in \u001b[0;36mDataFrame._sanitize_column\u001b[0;34m(self, value)\u001b[0m\n\u001b[1;32m   4912\u001b[0m     \u001b[38;5;28;01mreturn\u001b[39;00m _reindex_for_setitem(Series(value), \u001b[38;5;28mself\u001b[39m\u001b[38;5;241m.\u001b[39mindex)\n\u001b[1;32m   4914\u001b[0m \u001b[38;5;28;01mif\u001b[39;00m is_list_like(value):\n\u001b[0;32m-> 4915\u001b[0m     com\u001b[38;5;241m.\u001b[39mrequire_length_match(value, \u001b[38;5;28mself\u001b[39m\u001b[38;5;241m.\u001b[39mindex)\n\u001b[1;32m   4916\u001b[0m \u001b[38;5;28;01mreturn\u001b[39;00m sanitize_array(value, \u001b[38;5;28mself\u001b[39m\u001b[38;5;241m.\u001b[39mindex, copy\u001b[38;5;241m=\u001b[39m\u001b[38;5;28;01mTrue\u001b[39;00m, allow_2d\u001b[38;5;241m=\u001b[39m\u001b[38;5;28;01mTrue\u001b[39;00m)\n",
      "File \u001b[0;32m/opt/homebrew/Caskroom/miniforge/base/envs/sklearn-env/lib/python3.11/site-packages/pandas/core/common.py:571\u001b[0m, in \u001b[0;36mrequire_length_match\u001b[0;34m(data, index)\u001b[0m\n\u001b[1;32m    567\u001b[0m \u001b[38;5;250m\u001b[39m\u001b[38;5;124;03m\"\"\"\u001b[39;00m\n\u001b[1;32m    568\u001b[0m \u001b[38;5;124;03mCheck the length of data matches the length of the index.\u001b[39;00m\n\u001b[1;32m    569\u001b[0m \u001b[38;5;124;03m\"\"\"\u001b[39;00m\n\u001b[1;32m    570\u001b[0m \u001b[38;5;28;01mif\u001b[39;00m \u001b[38;5;28mlen\u001b[39m(data) \u001b[38;5;241m!=\u001b[39m \u001b[38;5;28mlen\u001b[39m(index):\n\u001b[0;32m--> 571\u001b[0m     \u001b[38;5;28;01mraise\u001b[39;00m \u001b[38;5;167;01mValueError\u001b[39;00m(\n\u001b[1;32m    572\u001b[0m         \u001b[38;5;124m\"\u001b[39m\u001b[38;5;124mLength of values \u001b[39m\u001b[38;5;124m\"\u001b[39m\n\u001b[1;32m    573\u001b[0m         \u001b[38;5;124mf\u001b[39m\u001b[38;5;124m\"\u001b[39m\u001b[38;5;124m(\u001b[39m\u001b[38;5;132;01m{\u001b[39;00m\u001b[38;5;28mlen\u001b[39m(data)\u001b[38;5;132;01m}\u001b[39;00m\u001b[38;5;124m) \u001b[39m\u001b[38;5;124m\"\u001b[39m\n\u001b[1;32m    574\u001b[0m         \u001b[38;5;124m\"\u001b[39m\u001b[38;5;124mdoes not match length of index \u001b[39m\u001b[38;5;124m\"\u001b[39m\n\u001b[1;32m    575\u001b[0m         \u001b[38;5;124mf\u001b[39m\u001b[38;5;124m\"\u001b[39m\u001b[38;5;124m(\u001b[39m\u001b[38;5;132;01m{\u001b[39;00m\u001b[38;5;28mlen\u001b[39m(index)\u001b[38;5;132;01m}\u001b[39;00m\u001b[38;5;124m)\u001b[39m\u001b[38;5;124m\"\u001b[39m\n\u001b[1;32m    576\u001b[0m     )\n",
      "\u001b[0;31mValueError\u001b[0m: Length of values (3130) does not match length of index (1567)"
     ]
    }
   ],
   "source": [
    "scrape_cols = [x for x in reddit_df.columns if 'craped' in x]\n",
    "for col in scrape_cols: # converts strings to lists\n",
    "    reddit_df[col] = reddit_df[col].apply(lambda x: eval(x) if type(x)==str else x)\n",
    "\n",
    "reddit_df['all comments'] = [lst[1:] for lst in reddit_df.loc[:,'Game thread scraped']] \\\n",
    "                            + [lst[1:] for lst in reddit_df.loc[:,'Post game thread Scraped'] if type(lst)==list]\n",
    "reddit_df.loc[reddit_df['all comments'].isna(),'all comments'] = \\\n",
    "        reddit_df.loc[reddit_df['all comments'].isna(),'Game thread scraped']\n"
   ]
  },
  {
   "cell_type": "code",
   "execution_count": 485,
   "id": "9772ce21-6e95-445e-a475-5a8d4667ddb5",
   "metadata": {
    "tags": []
   },
   "outputs": [
    {
     "data": {
      "text/plain": [
       "'Dear Falcons fans: are you guys ready for 17 straight weeks of hearing how you fucked up the Super Bowl? I feel your pain. \\n\\nSincerely, \\n\\n\\nSeahawks fans everywhere.'"
      ]
     },
     "execution_count": 485,
     "metadata": {},
     "output_type": "execute_result"
    }
   ],
   "source": [
    "text = reddit_df['Game thread scraped'][0][1][0]\n",
    "text"
   ]
  },
  {
   "cell_type": "code",
   "execution_count": 229,
   "id": "810ee356-ef80-412e-ab39-6e744c46b7ea",
   "metadata": {
    "tags": []
   },
   "outputs": [
    {
     "data": {
      "text/plain": [
       "'Dear Falcons fans: are you guys ready for 17 straight weeks of hearing how you fucked up the Super Bowl? I feel your pain. Sincerely, Seahawks fans everywhere.'"
      ]
     },
     "execution_count": 229,
     "metadata": {},
     "output_type": "execute_result"
    }
   ],
   "source": [
    "from markdown import Markdown\n",
    "from io import StringIO\n",
    "\n",
    "\n",
    "def unmark_element(element, stream=None):\n",
    "    if stream is None:\n",
    "        stream = StringIO()\n",
    "    if element.text:\n",
    "        stream.write(element.text)\n",
    "    for sub in element:\n",
    "        unmark_element(sub, stream)\n",
    "    if element.tail:\n",
    "        stream.write(element.tail)\n",
    "    return stream.getvalue()\n",
    "\n",
    "\n",
    "# patching Markdown\n",
    "Markdown.output_formats[\"plain\"] = unmark_element\n",
    "__md = Markdown(output_format=\"plain\")\n",
    "__md.stripTopLevelTags = False\n",
    "\n",
    "\n",
    "def unmark(text):\n",
    "    return __md.convert(text).replace(\" \\n\",\" \")\n",
    "\n",
    "text = unmark(text).replace(\" \\n\",\" \")\n",
    "text"
   ]
  },
  {
   "cell_type": "code",
   "execution_count": 230,
   "id": "270f197d-eaf5-4f9f-a449-e163043dd3c2",
   "metadata": {
    "tags": []
   },
   "outputs": [
    {
     "data": {
      "text/plain": [
       "'Dear Falcons fans are you guys ready for 17 straight weeks of hearing how you fucked up the Super Bowl I feel your pain Sincerely Seahawks fans everywhere'"
      ]
     },
     "execution_count": 230,
     "metadata": {},
     "output_type": "execute_result"
    }
   ],
   "source": [
    "import string\n",
    "text = text.translate(str.maketrans('', '', string.punctuation))\n",
    "text"
   ]
  },
  {
   "cell_type": "code",
   "execution_count": 231,
   "id": "d348f4ad-c29f-41b4-86e6-f2d50858d561",
   "metadata": {
    "tags": []
   },
   "outputs": [
    {
     "name": "stdout",
     "output_type": "stream",
     "text": [
      "Collecting vaderSentiment\n",
      "  Downloading vaderSentiment-3.3.2-py2.py3-none-any.whl (125 kB)\n",
      "\u001b[2K     \u001b[90m━━━━━━━━━━━━━━━━━━━━━━━━━━━━━━━━━━━━━\u001b[0m \u001b[32m126.0/126.0 kB\u001b[0m \u001b[31m202.1 kB/s\u001b[0m eta \u001b[36m0:00:00\u001b[0m00:01\u001b[0m00:01\u001b[0m\n",
      "\u001b[?25hRequirement already satisfied: requests in /Users/rohanjha/.pyenv/versions/3.11.1/lib/python3.11/site-packages (from vaderSentiment) (2.28.1)\n",
      "Requirement already satisfied: charset-normalizer<3,>=2 in /Users/rohanjha/.pyenv/versions/3.11.1/lib/python3.11/site-packages (from requests->vaderSentiment) (2.1.1)\n",
      "Requirement already satisfied: idna<4,>=2.5 in /Users/rohanjha/.pyenv/versions/3.11.1/lib/python3.11/site-packages (from requests->vaderSentiment) (3.4)\n",
      "Requirement already satisfied: urllib3<1.27,>=1.21.1 in /Users/rohanjha/.pyenv/versions/3.11.1/lib/python3.11/site-packages (from requests->vaderSentiment) (1.26.13)\n",
      "Requirement already satisfied: certifi>=2017.4.17 in /Users/rohanjha/.pyenv/versions/3.11.1/lib/python3.11/site-packages (from requests->vaderSentiment) (2022.12.7)\n",
      "Installing collected packages: vaderSentiment\n",
      "Successfully installed vaderSentiment-3.3.2\n"
     ]
    }
   ],
   "source": [
    "!pip install vaderSentiment"
   ]
  },
  {
   "cell_type": "code",
   "execution_count": 232,
   "id": "bc94fff5-0b4f-40e5-912e-ec836ec09015",
   "metadata": {
    "tags": []
   },
   "outputs": [],
   "source": [
    "from vaderSentiment.vaderSentiment import SentimentIntensityAnalyzer\n",
    "nltk.download('vader_lexicon')"
   ]
  },
  {
   "cell_type": "code",
   "execution_count": 233,
   "id": "5212fb01-3e98-4894-80b3-21b5ddb68ae2",
   "metadata": {
    "tags": []
   },
   "outputs": [],
   "source": [
    "def sentiment_scores(sentence):\n",
    "    # Create a SentimentIntensityAnalyzer object.\n",
    "    sid_obj = SentimentIntensityAnalyzer()\n",
    "    # polarity_scores method of SentimentIntensityAnalyzer\n",
    "    # oject gives a sentiment dictionary.\n",
    "    # which contains pos, neg, neu, and compound scores.\n",
    "    sentiment_dict = sid_obj.polarity_scores(sentence)\n",
    "    print(\"Overall sentiment dictionary is : \", sentiment_dict)\n",
    "    print(\"sentence was rated as \", sentiment_dict['neg']*100, \"% Negative\")\n",
    "    print(\"sentence was rated as \", sentiment_dict['neu']*100, \"% Neutral\")\n",
    "    print(\"sentence was rated as \", sentiment_dict['pos']*100, \"% Positive\")\n",
    "    print(\"Sentence Overall Rated As\", end = \" \")\n",
    "    # decide sentiment as positive, negative and neutral\n",
    "    if sentiment_dict['compound'] >= 0.05 :\n",
    "        print(\"Positive\")\n",
    "    elif sentiment_dict['compound'] <= - 0.05 :\n",
    "        print(\"Negative\")\n",
    "    else :\n",
    "        print(\"Neutral\")"
   ]
  },
  {
   "cell_type": "code",
   "execution_count": 234,
   "id": "7cf38b27-677a-44b0-96bc-d44d7bf60b2b",
   "metadata": {
    "tags": []
   },
   "outputs": [
    {
     "name": "stdout",
     "output_type": "stream",
     "text": [
      "Overall sentiment dictionary is :  {'neg': 0.18, 'neu': 0.492, 'pos': 0.328, 'compound': 0.6486}\n",
      "sentence was rated as  18.0 % Negative\n",
      "sentence was rated as  49.2 % Neutral\n",
      "sentence was rated as  32.800000000000004 % Positive\n",
      "Sentence Overall Rated As Positive\n"
     ]
    }
   ],
   "source": [
    "sentiment_scores(text)"
   ]
  },
  {
   "cell_type": "code",
   "execution_count": 235,
   "id": "6880eb6b-21df-45f6-8ee1-cb8798c600f8",
   "metadata": {
    "tags": []
   },
   "outputs": [
    {
     "name": "stdout",
     "output_type": "stream",
     "text": [
      "#Fuckin Mark Wahlberg LEFT THE SUPER BOWL EARLY BECAUSE THE PATS WERE DOWN 28-3\n",
      "Overall sentiment dictionary is :  {'neg': 0.0, 'neu': 0.737, 'pos': 0.263, 'compound': 0.6841}\n",
      "sentence was rated as  0.0 % Negative\n",
      "sentence was rated as  73.7 % Neutral\n",
      "sentence was rated as  26.3 % Positive\n",
      "Sentence Overall Rated As Positive\n"
     ]
    }
   ],
   "source": [
    "text = reddit_df['Game thread scraped'][0][2][0]\n",
    "print(text)\n",
    "text = unmark(text).replace(\" \\n\",\" \")\n",
    "text = text.translate(str.maketrans('', '', string.punctuation))\n",
    "sentiment_scores(text)"
   ]
  },
  {
   "cell_type": "code",
   "execution_count": 236,
   "id": "9daea5bb-5f7f-49ca-943d-f4313ca6df89",
   "metadata": {
    "tags": []
   },
   "outputs": [
    {
     "name": "stdout",
     "output_type": "stream",
     "text": [
      "The SuperBowl is a great event.\n"
     ]
    }
   ],
   "source": [
    "import re\n",
    "\n",
    "def convert_super_bowl(text):\n",
    "    # Use regular expression to find and replace \"super bowl\" with \"superbowl\" (case-insensitive)\n",
    "    modified_text = re.sub(r'\\b(super)\\s+(bowl)\\b', r'\\1\\2', text, flags=re.IGNORECASE)\n",
    "    return modified_text\n",
    "\n",
    "# Example usage:\n",
    "original_text = \"The Super Bowl is a great event.\"\n",
    "converted_text = convert_super_bowl(original_text)\n",
    "print(converted_text)\n"
   ]
  },
  {
   "cell_type": "code",
   "execution_count": 289,
   "id": "c81fda98-6cc0-4330-82ad-98e5701741d2",
   "metadata": {
    "tags": []
   },
   "outputs": [],
   "source": [
    "import random\n",
    "\n",
    "thread_num = []\n",
    "comment_num = []\n",
    "comments = []\n",
    "pos_words = []\n",
    "neu_words = []\n",
    "neg_words = []\n",
    "scores = []\n",
    "# overall_rating = []\n",
    "\n",
    "for i in range(10):\n",
    "    num_1 = random.randrange(len(reddit_df))\n",
    "    for j in range(50):\n",
    "        thread_num.append(num_1)\n",
    "        num_2 = random.randrange(len(reddit_df.iloc[num_1,:].loc['Game thread scraped']))\n",
    "        if j != 0:\n",
    "            while num_2 in comment_num[-j:]:\n",
    "                num_2 = random.randrange(len(reddit_df.iloc[num_1,:].loc['Game thread scraped']))\n",
    "        comment_num.append(num_2)\n",
    "        text = reddit_df['Game thread scraped'][num_1][num_2][0]\n",
    "        # print(text)\n",
    "        # print(\"____________________________________________________________________________________________________\")\n",
    "        comments.append(text)\n",
    "        text = unmark(text).replace(\" \\n\",\" \")\n",
    "        text = convert_super_bowl(text)\n",
    "        text = text.translate(str.maketrans('', '', string.punctuation))\n",
    "        from nltk.tokenize import word_tokenize, RegexpTokenizer\n",
    "        from nltk.sentiment.vader import SentimentIntensityAnalyzer\n",
    "        tokenized_sentence = nltk.word_tokenize(text)\n",
    "\n",
    "        sid = SentimentIntensityAnalyzer()\n",
    "        pos_word_list=[]\n",
    "        neu_word_list=[]\n",
    "        neg_word_list=[]\n",
    "\n",
    "        for word in tokenized_sentence:\n",
    "            if (sid.polarity_scores(word)['compound']) >= 0.05:\n",
    "                pos_word_list.append(word)\n",
    "            elif (sid.polarity_scores(word)['compound']) <= -0.05:\n",
    "                neg_word_list.append(word)\n",
    "            else:\n",
    "                neu_word_list.append(word)                \n",
    "\n",
    "        # print('Positive:', pos_word_list) \n",
    "        pos_words.append(pos_word_list)\n",
    "        # print('Neutral:', neu_word_list) \n",
    "        neu_words.append(neu_word_list)\n",
    "        # print('Negative:', neg_word_list) \n",
    "        neg_words.append(neg_word_list)\n",
    "        score = sid.polarity_scores(text)\n",
    "        # print('\\nScores:', score,\"\\n\")\n",
    "        scores.append(score)\n",
    "        # print(\"Sentence Overall Rated As\", end = \" \")\n",
    "        # if score['compound'] >= 0.05 :\n",
    "        #     # print(\"Positive\")\n",
    "        #     overall_rating.append(1)\n",
    "        # elif score['compound'] <= - 0.05 :\n",
    "        #     # print(\"Negative\")\n",
    "        #     overall_rating.append(-1)\n",
    "        # else :\n",
    "        #     # print(\"Neutral\")\n",
    "        #     overall_rating.append(0)"
   ]
  },
  {
   "cell_type": "code",
   "execution_count": 366,
   "id": "f001525f-d093-4116-bb5f-6d798fc0196b",
   "metadata": {
    "tags": []
   },
   "outputs": [
    {
     "data": {
      "text/html": [
       "<div>\n",
       "<style scoped>\n",
       "    .dataframe tbody tr th:only-of-type {\n",
       "        vertical-align: middle;\n",
       "    }\n",
       "\n",
       "    .dataframe tbody tr th {\n",
       "        vertical-align: top;\n",
       "    }\n",
       "\n",
       "    .dataframe thead th {\n",
       "        text-align: right;\n",
       "    }\n",
       "</style>\n",
       "<table border=\"1\" class=\"dataframe\">\n",
       "  <thead>\n",
       "    <tr style=\"text-align: right;\">\n",
       "      <th></th>\n",
       "      <th>Thread</th>\n",
       "      <th>Comment Number</th>\n",
       "      <th>Comment Text</th>\n",
       "      <th>Positive Words</th>\n",
       "      <th>Neutral Words</th>\n",
       "      <th>Negative Words</th>\n",
       "      <th>Scores</th>\n",
       "      <th>Overall Rating</th>\n",
       "    </tr>\n",
       "  </thead>\n",
       "  <tbody>\n",
       "    <tr>\n",
       "      <th>0</th>\n",
       "      <td>220</td>\n",
       "      <td>251</td>\n",
       "      <td>He broke crossed the line and had control. How...</td>\n",
       "      <td>[]</td>\n",
       "      <td>[He, crossed, the, line, and, had, control, Ho...</td>\n",
       "      <td>[broke, lose]</td>\n",
       "      <td>{'neg': 0.103, 'neu': 0.813, 'pos': 0.083, 'co...</td>\n",
       "      <td>-1</td>\n",
       "    </tr>\n",
       "    <tr>\n",
       "      <th>1</th>\n",
       "      <td>220</td>\n",
       "      <td>396</td>\n",
       "      <td>There were multiple Patriots not lined up prop...</td>\n",
       "      <td>[play, like]</td>\n",
       "      <td>[There, were, multiple, Patriots, not, lined, ...</td>\n",
       "      <td>[miss]</td>\n",
       "      <td>{'neg': 0.056, 'neu': 0.772, 'pos': 0.172, 'co...</td>\n",
       "      <td>1</td>\n",
       "    </tr>\n",
       "    <tr>\n",
       "      <th>2</th>\n",
       "      <td>220</td>\n",
       "      <td>52</td>\n",
       "      <td>THIS WEEK ON WHAT IS A CATCH</td>\n",
       "      <td>[]</td>\n",
       "      <td>[THIS, WEEK, ON, WHAT, IS, A, CATCH]</td>\n",
       "      <td>[]</td>\n",
       "      <td>{'neg': 0.0, 'neu': 1.0, 'pos': 0.0, 'compound...</td>\n",
       "      <td>0</td>\n",
       "    </tr>\n",
       "    <tr>\n",
       "      <th>3</th>\n",
       "      <td>220</td>\n",
       "      <td>420</td>\n",
       "      <td>8 is neither 5 or 6. Good job D.</td>\n",
       "      <td>[Good]</td>\n",
       "      <td>[8, is, neither, 5, or, 6, job, D]</td>\n",
       "      <td>[]</td>\n",
       "      <td>{'neg': 0.376, 'neu': 0.624, 'pos': 0.0, 'comp...</td>\n",
       "      <td>-1</td>\n",
       "    </tr>\n",
       "    <tr>\n",
       "      <th>4</th>\n",
       "      <td>220</td>\n",
       "      <td>283</td>\n",
       "      <td>That's a catch. Don't care what the rules say.</td>\n",
       "      <td>[care]</td>\n",
       "      <td>[Thats, a, catch, Dont, what, the, rules, say]</td>\n",
       "      <td>[]</td>\n",
       "      <td>{'neg': 0.273, 'neu': 0.727, 'pos': 0.0, 'comp...</td>\n",
       "      <td>-1</td>\n",
       "    </tr>\n",
       "    <tr>\n",
       "      <th>...</th>\n",
       "      <td>...</td>\n",
       "      <td>...</td>\n",
       "      <td>...</td>\n",
       "      <td>...</td>\n",
       "      <td>...</td>\n",
       "      <td>...</td>\n",
       "      <td>...</td>\n",
       "      <td>...</td>\n",
       "    </tr>\n",
       "    <tr>\n",
       "      <th>495</th>\n",
       "      <td>55</td>\n",
       "      <td>189</td>\n",
       "      <td>Wanna know what's gonna happen? Carolina is go...</td>\n",
       "      <td>[win]</td>\n",
       "      <td>[Wan, na, know, whats, gon, na, happen, Caroli...</td>\n",
       "      <td>[fuck, wrong, forgotten]</td>\n",
       "      <td>{'neg': 0.134, 'neu': 0.806, 'pos': 0.06, 'com...</td>\n",
       "      <td>-1</td>\n",
       "    </tr>\n",
       "    <tr>\n",
       "      <th>496</th>\n",
       "      <td>55</td>\n",
       "      <td>403</td>\n",
       "      <td>I'm loving these TD celebrations. Glad they're...</td>\n",
       "      <td>[loving, Glad]</td>\n",
       "      <td>[Im, these, TD, celebrations, theyre, back]</td>\n",
       "      <td>[]</td>\n",
       "      <td>{'neg': 0.0, 'neu': 0.465, 'pos': 0.535, 'comp...</td>\n",
       "      <td>1</td>\n",
       "    </tr>\n",
       "    <tr>\n",
       "      <th>497</th>\n",
       "      <td>55</td>\n",
       "      <td>50</td>\n",
       "      <td>Love this hate Patriot fans.</td>\n",
       "      <td>[Love]</td>\n",
       "      <td>[this, Patriot, fans]</td>\n",
       "      <td>[hate]</td>\n",
       "      <td>{'neg': 0.339, 'neu': 0.275, 'pos': 0.385, 'co...</td>\n",
       "      <td>1</td>\n",
       "    </tr>\n",
       "    <tr>\n",
       "      <th>498</th>\n",
       "      <td>55</td>\n",
       "      <td>215</td>\n",
       "      <td>STEPHEN GOSTKOWSKI IS STILL PERFECT THIS MONTH!</td>\n",
       "      <td>[PERFECT]</td>\n",
       "      <td>[STEPHEN, GOSTKOWSKI, IS, STILL, THIS, MONTH]</td>\n",
       "      <td>[]</td>\n",
       "      <td>{'neg': 0.0, 'neu': 0.619, 'pos': 0.381, 'comp...</td>\n",
       "      <td>1</td>\n",
       "    </tr>\n",
       "    <tr>\n",
       "      <th>499</th>\n",
       "      <td>55</td>\n",
       "      <td>281</td>\n",
       "      <td>Late hits are okay. Touching anyone in passing...</td>\n",
       "      <td>[okay, plays]</td>\n",
       "      <td>[Late, hits, are, Touching, anyone, in, passin...</td>\n",
       "      <td>[]</td>\n",
       "      <td>{'neg': 0.0, 'neu': 0.698, 'pos': 0.302, 'comp...</td>\n",
       "      <td>1</td>\n",
       "    </tr>\n",
       "  </tbody>\n",
       "</table>\n",
       "<p>500 rows × 8 columns</p>\n",
       "</div>"
      ],
      "text/plain": [
       "     Thread  Comment Number  \\\n",
       "0       220             251   \n",
       "1       220             396   \n",
       "2       220              52   \n",
       "3       220             420   \n",
       "4       220             283   \n",
       "..      ...             ...   \n",
       "495      55             189   \n",
       "496      55             403   \n",
       "497      55              50   \n",
       "498      55             215   \n",
       "499      55             281   \n",
       "\n",
       "                                          Comment Text  Positive Words  \\\n",
       "0    He broke crossed the line and had control. How...              []   \n",
       "1    There were multiple Patriots not lined up prop...    [play, like]   \n",
       "2                        THIS WEEK ON WHAT IS A CATCH               []   \n",
       "3                     8 is neither 5 or 6. Good job D.          [Good]   \n",
       "4       That's a catch. Don't care what the rules say.          [care]   \n",
       "..                                                 ...             ...   \n",
       "495  Wanna know what's gonna happen? Carolina is go...           [win]   \n",
       "496  I'm loving these TD celebrations. Glad they're...  [loving, Glad]   \n",
       "497                       Love this hate Patriot fans.          [Love]   \n",
       "498    STEPHEN GOSTKOWSKI IS STILL PERFECT THIS MONTH!       [PERFECT]   \n",
       "499  Late hits are okay. Touching anyone in passing...   [okay, plays]   \n",
       "\n",
       "                                         Neutral Words  \\\n",
       "0    [He, crossed, the, line, and, had, control, Ho...   \n",
       "1    [There, were, multiple, Patriots, not, lined, ...   \n",
       "2                 [THIS, WEEK, ON, WHAT, IS, A, CATCH]   \n",
       "3                   [8, is, neither, 5, or, 6, job, D]   \n",
       "4       [Thats, a, catch, Dont, what, the, rules, say]   \n",
       "..                                                 ...   \n",
       "495  [Wan, na, know, whats, gon, na, happen, Caroli...   \n",
       "496        [Im, these, TD, celebrations, theyre, back]   \n",
       "497                              [this, Patriot, fans]   \n",
       "498      [STEPHEN, GOSTKOWSKI, IS, STILL, THIS, MONTH]   \n",
       "499  [Late, hits, are, Touching, anyone, in, passin...   \n",
       "\n",
       "               Negative Words  \\\n",
       "0               [broke, lose]   \n",
       "1                      [miss]   \n",
       "2                          []   \n",
       "3                          []   \n",
       "4                          []   \n",
       "..                        ...   \n",
       "495  [fuck, wrong, forgotten]   \n",
       "496                        []   \n",
       "497                    [hate]   \n",
       "498                        []   \n",
       "499                        []   \n",
       "\n",
       "                                                Scores  Overall Rating  \n",
       "0    {'neg': 0.103, 'neu': 0.813, 'pos': 0.083, 'co...              -1  \n",
       "1    {'neg': 0.056, 'neu': 0.772, 'pos': 0.172, 'co...               1  \n",
       "2    {'neg': 0.0, 'neu': 1.0, 'pos': 0.0, 'compound...               0  \n",
       "3    {'neg': 0.376, 'neu': 0.624, 'pos': 0.0, 'comp...              -1  \n",
       "4    {'neg': 0.273, 'neu': 0.727, 'pos': 0.0, 'comp...              -1  \n",
       "..                                                 ...             ...  \n",
       "495  {'neg': 0.134, 'neu': 0.806, 'pos': 0.06, 'com...              -1  \n",
       "496  {'neg': 0.0, 'neu': 0.465, 'pos': 0.535, 'comp...               1  \n",
       "497  {'neg': 0.339, 'neu': 0.275, 'pos': 0.385, 'co...               1  \n",
       "498  {'neg': 0.0, 'neu': 0.619, 'pos': 0.381, 'comp...               1  \n",
       "499  {'neg': 0.0, 'neu': 0.698, 'pos': 0.302, 'comp...               1  \n",
       "\n",
       "[500 rows x 8 columns]"
      ]
     },
     "execution_count": 366,
     "metadata": {},
     "output_type": "execute_result"
    }
   ],
   "source": [
    "data = {\n",
    "    \"Thread\": thread_num,\n",
    "    \"Comment Number\": comment_num,\n",
    "    'Comment Text': comments,\n",
    "    'Positive Words': pos_words,\n",
    "    'Neutral Words': neu_words,\n",
    "    'Negative Words': neg_words,\n",
    "    'Scores': scores,\n",
    "    'Overall Rating': overall_rating\n",
    "}\n",
    "\n",
    "verifying_df = pd.DataFrame(data)\n",
    "verifying_df#.to_csv('verifying_scores.csv')"
   ]
  },
  {
   "cell_type": "code",
   "execution_count": 391,
   "id": "a12afac8-1ff5-4b0b-a20b-7c68417faab6",
   "metadata": {
    "tags": []
   },
   "outputs": [
    {
     "name": "stdout",
     "output_type": "stream",
     "text": [
      " 1.0     0.521053\n",
      " 0.0     0.247368\n",
      "-0.5     0.110526\n",
      "-99.0    0.094737\n",
      " 0.5     0.026316\n",
      "Name: Accurate, dtype: float64\n"
     ]
    },
    {
     "data": {
      "text/html": [
       "<div>\n",
       "<style scoped>\n",
       "    .dataframe tbody tr th:only-of-type {\n",
       "        vertical-align: middle;\n",
       "    }\n",
       "\n",
       "    .dataframe tbody tr th {\n",
       "        vertical-align: top;\n",
       "    }\n",
       "\n",
       "    .dataframe thead th {\n",
       "        text-align: right;\n",
       "    }\n",
       "</style>\n",
       "<table border=\"1\" class=\"dataframe\">\n",
       "  <thead>\n",
       "    <tr style=\"text-align: right;\">\n",
       "      <th></th>\n",
       "      <th>Thread</th>\n",
       "      <th>Comment Number</th>\n",
       "      <th>Comment Text</th>\n",
       "      <th>Positive Words</th>\n",
       "      <th>Neutral Words</th>\n",
       "      <th>Negative Words</th>\n",
       "      <th>Scores</th>\n",
       "      <th>My rating</th>\n",
       "      <th>Compound</th>\n",
       "      <th>Overall Rating</th>\n",
       "      <th>Accurate</th>\n",
       "    </tr>\n",
       "  </thead>\n",
       "  <tbody>\n",
       "    <tr>\n",
       "      <th>0</th>\n",
       "      <td>220</td>\n",
       "      <td>251</td>\n",
       "      <td>He broke crossed the line and had control. How...</td>\n",
       "      <td>[]</td>\n",
       "      <td>['He', 'crossed', 'the', 'line', 'and', 'had',...</td>\n",
       "      <td>['broke', 'lose']</td>\n",
       "      <td>{'neg': 0.103, 'neu': 0.813, 'pos': 0.083, 'co...</td>\n",
       "      <td>-1.0</td>\n",
       "      <td>-0.1386</td>\n",
       "      <td>-1</td>\n",
       "      <td>1.0</td>\n",
       "    </tr>\n",
       "    <tr>\n",
       "      <th>1</th>\n",
       "      <td>220</td>\n",
       "      <td>396</td>\n",
       "      <td>There were multiple Patriots not lined up prop...</td>\n",
       "      <td>['play', 'like']</td>\n",
       "      <td>['There', 'were', 'multiple', 'Patriots', 'not...</td>\n",
       "      <td>['miss']</td>\n",
       "      <td>{'neg': 0.056, 'neu': 0.772, 'pos': 0.172, 'co...</td>\n",
       "      <td>-1.0</td>\n",
       "      <td>0.5106</td>\n",
       "      <td>1</td>\n",
       "      <td>0.0</td>\n",
       "    </tr>\n",
       "    <tr>\n",
       "      <th>2</th>\n",
       "      <td>220</td>\n",
       "      <td>52</td>\n",
       "      <td>THIS WEEK ON WHAT IS A CATCH</td>\n",
       "      <td>[]</td>\n",
       "      <td>['THIS', 'WEEK', 'ON', 'WHAT', 'IS', 'A', 'CAT...</td>\n",
       "      <td>[]</td>\n",
       "      <td>{'neg': 0.0, 'neu': 1.0, 'pos': 0.0, 'compound...</td>\n",
       "      <td>0.0</td>\n",
       "      <td>0.0000</td>\n",
       "      <td>0</td>\n",
       "      <td>1.0</td>\n",
       "    </tr>\n",
       "    <tr>\n",
       "      <th>3</th>\n",
       "      <td>220</td>\n",
       "      <td>420</td>\n",
       "      <td>8 is neither 5 or 6. Good job D.</td>\n",
       "      <td>['Good']</td>\n",
       "      <td>['8', 'is', 'neither', '5', 'or', '6', 'job', ...</td>\n",
       "      <td>[]</td>\n",
       "      <td>{'neg': 0.376, 'neu': 0.624, 'pos': 0.0, 'comp...</td>\n",
       "      <td>-99.0</td>\n",
       "      <td>-0.3412</td>\n",
       "      <td>-1</td>\n",
       "      <td>-99.0</td>\n",
       "    </tr>\n",
       "    <tr>\n",
       "      <th>4</th>\n",
       "      <td>220</td>\n",
       "      <td>283</td>\n",
       "      <td>That's a catch. Don't care what the rules say.</td>\n",
       "      <td>['care']</td>\n",
       "      <td>['Thats', 'a', 'catch', 'Dont', 'what', 'the',...</td>\n",
       "      <td>[]</td>\n",
       "      <td>{'neg': 0.273, 'neu': 0.727, 'pos': 0.0, 'comp...</td>\n",
       "      <td>1.0</td>\n",
       "      <td>-0.3875</td>\n",
       "      <td>-1</td>\n",
       "      <td>0.0</td>\n",
       "    </tr>\n",
       "    <tr>\n",
       "      <th>...</th>\n",
       "      <td>...</td>\n",
       "      <td>...</td>\n",
       "      <td>...</td>\n",
       "      <td>...</td>\n",
       "      <td>...</td>\n",
       "      <td>...</td>\n",
       "      <td>...</td>\n",
       "      <td>...</td>\n",
       "      <td>...</td>\n",
       "      <td>...</td>\n",
       "      <td>...</td>\n",
       "    </tr>\n",
       "    <tr>\n",
       "      <th>485</th>\n",
       "      <td>55</td>\n",
       "      <td>189</td>\n",
       "      <td>Wanna know what's gonna happen? Carolina is go...</td>\n",
       "      <td>['win']</td>\n",
       "      <td>['Wan', 'na', 'know', 'whats', 'gon', 'na', 'h...</td>\n",
       "      <td>['fuck', 'wrong', 'forgotten']</td>\n",
       "      <td>{'neg': 0.134, 'neu': 0.806, 'pos': 0.06, 'com...</td>\n",
       "      <td>NaN</td>\n",
       "      <td>-0.5719</td>\n",
       "      <td>-1</td>\n",
       "      <td>NaN</td>\n",
       "    </tr>\n",
       "    <tr>\n",
       "      <th>486</th>\n",
       "      <td>55</td>\n",
       "      <td>403</td>\n",
       "      <td>I'm loving these TD celebrations. Glad they're...</td>\n",
       "      <td>['loving', 'Glad']</td>\n",
       "      <td>['Im', 'these', 'TD', 'celebrations', 'theyre'...</td>\n",
       "      <td>[]</td>\n",
       "      <td>{'neg': 0.0, 'neu': 0.465, 'pos': 0.535, 'comp...</td>\n",
       "      <td>NaN</td>\n",
       "      <td>0.7845</td>\n",
       "      <td>1</td>\n",
       "      <td>NaN</td>\n",
       "    </tr>\n",
       "    <tr>\n",
       "      <th>487</th>\n",
       "      <td>55</td>\n",
       "      <td>50</td>\n",
       "      <td>Love this hate Patriot fans.</td>\n",
       "      <td>['Love']</td>\n",
       "      <td>['this', 'Patriot', 'fans']</td>\n",
       "      <td>['hate']</td>\n",
       "      <td>{'neg': 0.339, 'neu': 0.275, 'pos': 0.385, 'co...</td>\n",
       "      <td>NaN</td>\n",
       "      <td>0.1280</td>\n",
       "      <td>1</td>\n",
       "      <td>NaN</td>\n",
       "    </tr>\n",
       "    <tr>\n",
       "      <th>488</th>\n",
       "      <td>55</td>\n",
       "      <td>215</td>\n",
       "      <td>STEPHEN GOSTKOWSKI IS STILL PERFECT THIS MONTH!</td>\n",
       "      <td>['PERFECT']</td>\n",
       "      <td>['STEPHEN', 'GOSTKOWSKI', 'IS', 'STILL', 'THIS...</td>\n",
       "      <td>[]</td>\n",
       "      <td>{'neg': 0.0, 'neu': 0.619, 'pos': 0.381, 'comp...</td>\n",
       "      <td>NaN</td>\n",
       "      <td>0.5719</td>\n",
       "      <td>1</td>\n",
       "      <td>NaN</td>\n",
       "    </tr>\n",
       "    <tr>\n",
       "      <th>489</th>\n",
       "      <td>55</td>\n",
       "      <td>281</td>\n",
       "      <td>Late hits are okay. Touching anyone in passing...</td>\n",
       "      <td>['okay', 'plays']</td>\n",
       "      <td>['Late', 'hits', 'are', 'Touching', 'anyone', ...</td>\n",
       "      <td>[]</td>\n",
       "      <td>{'neg': 0.0, 'neu': 0.698, 'pos': 0.302, 'comp...</td>\n",
       "      <td>NaN</td>\n",
       "      <td>0.4404</td>\n",
       "      <td>1</td>\n",
       "      <td>NaN</td>\n",
       "    </tr>\n",
       "  </tbody>\n",
       "</table>\n",
       "<p>490 rows × 11 columns</p>\n",
       "</div>"
      ],
      "text/plain": [
       "     Thread  Comment Number  \\\n",
       "0       220             251   \n",
       "1       220             396   \n",
       "2       220              52   \n",
       "3       220             420   \n",
       "4       220             283   \n",
       "..      ...             ...   \n",
       "485      55             189   \n",
       "486      55             403   \n",
       "487      55              50   \n",
       "488      55             215   \n",
       "489      55             281   \n",
       "\n",
       "                                          Comment Text      Positive Words  \\\n",
       "0    He broke crossed the line and had control. How...                  []   \n",
       "1    There were multiple Patriots not lined up prop...    ['play', 'like']   \n",
       "2                        THIS WEEK ON WHAT IS A CATCH                   []   \n",
       "3                     8 is neither 5 or 6. Good job D.            ['Good']   \n",
       "4       That's a catch. Don't care what the rules say.            ['care']   \n",
       "..                                                 ...                 ...   \n",
       "485  Wanna know what's gonna happen? Carolina is go...             ['win']   \n",
       "486  I'm loving these TD celebrations. Glad they're...  ['loving', 'Glad']   \n",
       "487                       Love this hate Patriot fans.            ['Love']   \n",
       "488    STEPHEN GOSTKOWSKI IS STILL PERFECT THIS MONTH!         ['PERFECT']   \n",
       "489  Late hits are okay. Touching anyone in passing...   ['okay', 'plays']   \n",
       "\n",
       "                                         Neutral Words  \\\n",
       "0    ['He', 'crossed', 'the', 'line', 'and', 'had',...   \n",
       "1    ['There', 'were', 'multiple', 'Patriots', 'not...   \n",
       "2    ['THIS', 'WEEK', 'ON', 'WHAT', 'IS', 'A', 'CAT...   \n",
       "3    ['8', 'is', 'neither', '5', 'or', '6', 'job', ...   \n",
       "4    ['Thats', 'a', 'catch', 'Dont', 'what', 'the',...   \n",
       "..                                                 ...   \n",
       "485  ['Wan', 'na', 'know', 'whats', 'gon', 'na', 'h...   \n",
       "486  ['Im', 'these', 'TD', 'celebrations', 'theyre'...   \n",
       "487                        ['this', 'Patriot', 'fans']   \n",
       "488  ['STEPHEN', 'GOSTKOWSKI', 'IS', 'STILL', 'THIS...   \n",
       "489  ['Late', 'hits', 'are', 'Touching', 'anyone', ...   \n",
       "\n",
       "                     Negative Words  \\\n",
       "0                 ['broke', 'lose']   \n",
       "1                          ['miss']   \n",
       "2                                []   \n",
       "3                                []   \n",
       "4                                []   \n",
       "..                              ...   \n",
       "485  ['fuck', 'wrong', 'forgotten']   \n",
       "486                              []   \n",
       "487                        ['hate']   \n",
       "488                              []   \n",
       "489                              []   \n",
       "\n",
       "                                                Scores  My rating  Compound  \\\n",
       "0    {'neg': 0.103, 'neu': 0.813, 'pos': 0.083, 'co...       -1.0   -0.1386   \n",
       "1    {'neg': 0.056, 'neu': 0.772, 'pos': 0.172, 'co...       -1.0    0.5106   \n",
       "2    {'neg': 0.0, 'neu': 1.0, 'pos': 0.0, 'compound...        0.0    0.0000   \n",
       "3    {'neg': 0.376, 'neu': 0.624, 'pos': 0.0, 'comp...      -99.0   -0.3412   \n",
       "4    {'neg': 0.273, 'neu': 0.727, 'pos': 0.0, 'comp...        1.0   -0.3875   \n",
       "..                                                 ...        ...       ...   \n",
       "485  {'neg': 0.134, 'neu': 0.806, 'pos': 0.06, 'com...        NaN   -0.5719   \n",
       "486  {'neg': 0.0, 'neu': 0.465, 'pos': 0.535, 'comp...        NaN    0.7845   \n",
       "487  {'neg': 0.339, 'neu': 0.275, 'pos': 0.385, 'co...        NaN    0.1280   \n",
       "488  {'neg': 0.0, 'neu': 0.619, 'pos': 0.381, 'comp...        NaN    0.5719   \n",
       "489  {'neg': 0.0, 'neu': 0.698, 'pos': 0.302, 'comp...        NaN    0.4404   \n",
       "\n",
       "     Overall Rating  Accurate  \n",
       "0                -1       1.0  \n",
       "1                 1       0.0  \n",
       "2                 0       1.0  \n",
       "3                -1     -99.0  \n",
       "4                -1       0.0  \n",
       "..              ...       ...  \n",
       "485              -1       NaN  \n",
       "486               1       NaN  \n",
       "487               1       NaN  \n",
       "488               1       NaN  \n",
       "489               1       NaN  \n",
       "\n",
       "[490 rows x 11 columns]"
      ]
     },
     "execution_count": 391,
     "metadata": {},
     "output_type": "execute_result"
    }
   ],
   "source": [
    "df = pd.read_csv('verifying_scores.csv').iloc[:,1:]\n",
    "def cutoffs(lower_bound, upper_bound, col):\n",
    "    lst = []\n",
    "    for i in col:\n",
    "        if i <= lower_bound:\n",
    "            lst.append(-1)\n",
    "        elif i >= upper_bound:\n",
    "            lst.append(1)\n",
    "        else:\n",
    "            lst.append(0)\n",
    "    return lst\n",
    "df['Scores'] = df['Scores'].apply(eval)\n",
    "df['Compound'] = [i['compound'] for i in df['Scores']]\n",
    "df['Overall Rating'] = cutoffs(-0.05, 0.05, df['Compound'])\n",
    "df['Accurate'] = (df['My rating'] == df['Overall Rating']).astype(int)\n",
    "df.loc[(df['Overall Rating'] == 0) & (df['My rating'] != 0), 'Accurate'] = \\\n",
    "    df.loc[(df['Overall Rating'] == 0) & (df['My rating'] != 0), 'My rating']/2\n",
    "df.loc[df['My rating'] == -99, 'Accurate'] = -99\n",
    "df.loc[df['My rating'].isna(), 'Accurate'] = np.NaN\n",
    "print(df.loc[:,'Accurate'].value_counts(normalize=True))\n",
    "df"
   ]
  },
  {
   "cell_type": "code",
   "execution_count": 393,
   "id": "00d42f9f-cdea-416b-a2fe-5c5f66dfb604",
   "metadata": {
    "tags": []
   },
   "outputs": [
    {
     "name": "stdout",
     "output_type": "stream",
     "text": [
      "Index: 220\n",
      "Length: 46\n",
      " 1.0     0.478261\n",
      " 0.0     0.239130\n",
      "-99.0    0.173913\n",
      "-0.5     0.108696\n",
      "Name: Accurate, dtype: float64\n",
      "Index: 424\n",
      "Length: 48\n",
      " 1.0     0.500000\n",
      " 0.0     0.229167\n",
      "-99.0    0.145833\n",
      "-0.5     0.125000\n",
      "Name: Accurate, dtype: float64\n",
      "Index: 603\n",
      "Length: 47\n",
      " 1.0    0.574468\n",
      " 0.0    0.319149\n",
      "-0.5    0.085106\n",
      " 0.5    0.021277\n",
      "Name: Accurate, dtype: float64\n",
      "Index: 416\n",
      "Length: 49\n",
      " 1.0     0.530612\n",
      " 0.0     0.204082\n",
      "-0.5     0.122449\n",
      " 0.5     0.081633\n",
      "-99.0    0.061224\n",
      "Name: Accurate, dtype: float64\n"
     ]
    }
   ],
   "source": [
    "for idx in df['Thread'].unique()[:4]:\n",
    "    sub_df = df[df['Thread'] == idx]\n",
    "    print(f\"Index: {idx}\")\n",
    "    print(f\"Length: {len(sub_df)}\")\n",
    "    print(sub_df.loc[:,'Accurate'].value_counts(normalize=True))"
   ]
  },
  {
   "cell_type": "markdown",
   "id": "763ac362-0b7b-4510-a99b-8ca339f4fabc",
   "metadata": {},
   "source": [
    "## Generating proportions"
   ]
  },
  {
   "cell_type": "code",
   "execution_count": 421,
   "id": "5cdc27eb-6036-441e-a3a8-5b3a77b453a1",
   "metadata": {
    "tags": []
   },
   "outputs": [
    {
     "data": {
      "text/html": [
       "<div>\n",
       "<style scoped>\n",
       "    .dataframe tbody tr th:only-of-type {\n",
       "        vertical-align: middle;\n",
       "    }\n",
       "\n",
       "    .dataframe tbody tr th {\n",
       "        vertical-align: top;\n",
       "    }\n",
       "\n",
       "    .dataframe thead th {\n",
       "        text-align: right;\n",
       "    }\n",
       "</style>\n",
       "<table border=\"1\" class=\"dataframe\">\n",
       "  <thead>\n",
       "    <tr style=\"text-align: right;\">\n",
       "      <th></th>\n",
       "      <th>Season</th>\n",
       "      <th>Week</th>\n",
       "      <th>Day</th>\n",
       "      <th>Date</th>\n",
       "      <th>Time (ET)</th>\n",
       "      <th>Unnamed: 5</th>\n",
       "      <th>Favorite</th>\n",
       "      <th>Score</th>\n",
       "      <th>Spread</th>\n",
       "      <th>Unnamed: 9</th>\n",
       "      <th>...</th>\n",
       "      <th>GameHub/RedZone</th>\n",
       "      <th>Game thread link?</th>\n",
       "      <th>Post-game thread link?</th>\n",
       "      <th>Game thread</th>\n",
       "      <th>Post game thread</th>\n",
       "      <th>GameHub Scraped</th>\n",
       "      <th>Game thread scraped</th>\n",
       "      <th>Post game thread Scraped</th>\n",
       "      <th>Subscribers (in thousands)</th>\n",
       "      <th>all comments</th>\n",
       "    </tr>\n",
       "  </thead>\n",
       "  <tbody>\n",
       "    <tr>\n",
       "      <th>0</th>\n",
       "      <td>2017</td>\n",
       "      <td>1</td>\n",
       "      <td>Thu</td>\n",
       "      <td>2017-09-07</td>\n",
       "      <td>8:30</td>\n",
       "      <td>@</td>\n",
       "      <td>New England Patriots</td>\n",
       "      <td>L 27-42</td>\n",
       "      <td>L -8</td>\n",
       "      <td>NaN</td>\n",
       "      <td>...</td>\n",
       "      <td>NaN</td>\n",
       "      <td>NaN</td>\n",
       "      <td>NaN</td>\n",
       "      <td>https://www.reddit.com/r/nfl/comments/6yr619/g...</td>\n",
       "      <td>https://www.reddit.com/r/nfl/comments/6ysc10/p...</td>\n",
       "      <td>NaN</td>\n",
       "      <td>[3193, (Dear Falcons fans: are you guys ready ...</td>\n",
       "      <td>[2781, (I'm imagining a world where the Patrio...</td>\n",
       "      <td>640</td>\n",
       "      <td>[3193, (Dear Falcons fans: are you guys ready ...</td>\n",
       "    </tr>\n",
       "    <tr>\n",
       "      <th>1</th>\n",
       "      <td>2017</td>\n",
       "      <td>1</td>\n",
       "      <td>Sun</td>\n",
       "      <td>2017-09-10</td>\n",
       "      <td>1:00</td>\n",
       "      <td>@</td>\n",
       "      <td>Buffalo Bills</td>\n",
       "      <td>W 21-12</td>\n",
       "      <td>W -7</td>\n",
       "      <td>NaN</td>\n",
       "      <td>...</td>\n",
       "      <td>https://www.reddit.com/r/nfl/comments/6z90qu/g...</td>\n",
       "      <td>NaN</td>\n",
       "      <td>1.0</td>\n",
       "      <td>https://www.reddit.com/r/nfl/comments/6z97il/g...</td>\n",
       "      <td>https://www.reddit.com/r/nfl/comments/6zajs1/p...</td>\n",
       "      <td>[240, (Bitter-sweet start to the NFL season wi...</td>\n",
       "      <td>[109, (I'm a Jets fan. I'm a Texas A&amp;M fan. Ye...</td>\n",
       "      <td>[120, (Bills number 1 seed in the AFCE!, 194),...</td>\n",
       "      <td>640</td>\n",
       "      <td>[109, (I'm a Jets fan. I'm a Texas A&amp;M fan. Ye...</td>\n",
       "    </tr>\n",
       "  </tbody>\n",
       "</table>\n",
       "<p>2 rows × 23 columns</p>\n",
       "</div>"
      ],
      "text/plain": [
       "   Season  Week  Day       Date Time (ET) Unnamed: 5              Favorite  \\\n",
       "0    2017     1  Thu 2017-09-07      8:30          @  New England Patriots   \n",
       "1    2017     1  Sun 2017-09-10      1:00          @         Buffalo Bills   \n",
       "\n",
       "     Score Spread Unnamed: 9  ...  \\\n",
       "0  L 27-42   L -8        NaN  ...   \n",
       "1  W 21-12   W -7        NaN  ...   \n",
       "\n",
       "                                     GameHub/RedZone Game thread link?  \\\n",
       "0                                                NaN               NaN   \n",
       "1  https://www.reddit.com/r/nfl/comments/6z90qu/g...               NaN   \n",
       "\n",
       "  Post-game thread link?                                        Game thread  \\\n",
       "0                    NaN  https://www.reddit.com/r/nfl/comments/6yr619/g...   \n",
       "1                    1.0  https://www.reddit.com/r/nfl/comments/6z97il/g...   \n",
       "\n",
       "                                    Post game thread  \\\n",
       "0  https://www.reddit.com/r/nfl/comments/6ysc10/p...   \n",
       "1  https://www.reddit.com/r/nfl/comments/6zajs1/p...   \n",
       "\n",
       "                                     GameHub Scraped  \\\n",
       "0                                                NaN   \n",
       "1  [240, (Bitter-sweet start to the NFL season wi...   \n",
       "\n",
       "                                 Game thread scraped  \\\n",
       "0  [3193, (Dear Falcons fans: are you guys ready ...   \n",
       "1  [109, (I'm a Jets fan. I'm a Texas A&M fan. Ye...   \n",
       "\n",
       "                            Post game thread Scraped  \\\n",
       "0  [2781, (I'm imagining a world where the Patrio...   \n",
       "1  [120, (Bills number 1 seed in the AFCE!, 194),...   \n",
       "\n",
       "  Subscribers (in thousands)  \\\n",
       "0                        640   \n",
       "1                        640   \n",
       "\n",
       "                                        all comments  \n",
       "0  [3193, (Dear Falcons fans: are you guys ready ...  \n",
       "1  [109, (I'm a Jets fan. I'm a Texas A&M fan. Ye...  \n",
       "\n",
       "[2 rows x 23 columns]"
      ]
     },
     "execution_count": 421,
     "metadata": {},
     "output_type": "execute_result"
    }
   ],
   "source": [
    "reddit_df.head(2)"
   ]
  },
  {
   "cell_type": "code",
   "execution_count": 493,
   "id": "f94cd0ca-3a3c-4ba5-9444-d8250b944273",
   "metadata": {
    "tags": []
   },
   "outputs": [
    {
     "ename": "TypeError",
     "evalue": "'int' object is not subscriptable",
     "output_type": "error",
     "traceback": [
      "\u001b[0;31m---------------------------------------------------------------------------\u001b[0m",
      "\u001b[0;31mTypeError\u001b[0m                                 Traceback (most recent call last)",
      "Cell \u001b[0;32mIn[493], line 26\u001b[0m\n\u001b[1;32m     23\u001b[0m     proportion_neg \u001b[38;5;241m=\u001b[39m analysed_lst\u001b[38;5;241m.\u001b[39mcount(\u001b[38;5;241m-\u001b[39m\u001b[38;5;241m1\u001b[39m) \u001b[38;5;241m/\u001b[39m \u001b[38;5;28mlen\u001b[39m(analysed_lst)\n\u001b[1;32m     24\u001b[0m     \u001b[38;5;28;01mreturn\u001b[39;00m (proportion_pos, proportion_neg)\n\u001b[0;32m---> 26\u001b[0m alpha \u001b[38;5;241m=\u001b[39m list_analyser(reddit_df[\u001b[38;5;124m'\u001b[39m\u001b[38;5;124mall comments\u001b[39m\u001b[38;5;124m'\u001b[39m][\u001b[38;5;241m0\u001b[39m])\n\u001b[1;32m     27\u001b[0m alpha[:\u001b[38;5;241m5\u001b[39m]\n",
      "Cell \u001b[0;32mIn[493], line 18\u001b[0m, in \u001b[0;36mlist_analyser\u001b[0;34m(lst)\u001b[0m\n\u001b[1;32m     17\u001b[0m \u001b[38;5;28;01mdef\u001b[39;00m \u001b[38;5;21mlist_analyser\u001b[39m(lst):\n\u001b[0;32m---> 18\u001b[0m     lst_analysed \u001b[38;5;241m=\u001b[39m [text_analyser(i[\u001b[38;5;241m0\u001b[39m]) \u001b[38;5;28;01mfor\u001b[39;00m i \u001b[38;5;129;01min\u001b[39;00m lst]\n\u001b[1;32m     19\u001b[0m     \u001b[38;5;28;01mreturn\u001b[39;00m lst_analysed\n",
      "Cell \u001b[0;32mIn[493], line 18\u001b[0m, in \u001b[0;36m<listcomp>\u001b[0;34m(.0)\u001b[0m\n\u001b[1;32m     17\u001b[0m \u001b[38;5;28;01mdef\u001b[39;00m \u001b[38;5;21mlist_analyser\u001b[39m(lst):\n\u001b[0;32m---> 18\u001b[0m     lst_analysed \u001b[38;5;241m=\u001b[39m [text_analyser(i[\u001b[38;5;241m0\u001b[39m]) \u001b[38;5;28;01mfor\u001b[39;00m i \u001b[38;5;129;01min\u001b[39;00m lst]\n\u001b[1;32m     19\u001b[0m     \u001b[38;5;28;01mreturn\u001b[39;00m lst_analysed\n",
      "\u001b[0;31mTypeError\u001b[0m: 'int' object is not subscriptable"
     ]
    }
   ],
   "source": [
    "from nltk.tokenize import word_tokenize, RegexpTokenizer\n",
    "from nltk.sentiment.vader import SentimentIntensityAnalyzer\n",
    "\n",
    "def text_analyser(text):\n",
    "    sid_obj = SentimentIntensityAnalyzer()\n",
    "    text = unmark(text).replace(\" \\n\",\" \")\n",
    "    text = convert_super_bowl(text)\n",
    "    text = text.translate(str.maketrans('', '', string.punctuation))\n",
    "    sentiment_dict = sid_obj.polarity_scores(text)\n",
    "    if sentiment_dict['compound'] >= 0.05 :\n",
    "        return 1\n",
    "    elif sentiment_dict['compound'] <= - 0.05 :\n",
    "        return -1\n",
    "    else :\n",
    "        return 0\n",
    "\n",
    "def list_analyser(lst):\n",
    "    lst_analysed = [text_analyser(i[0]) for i in lst]\n",
    "    return lst_analysed\n",
    "    \n",
    "def prop_calculator(analysed_lst):\n",
    "    proportion_pos = analysed_lst.count(1) / len(analysed_lst)\n",
    "    proportion_neg = analysed_lst.count(-1) / len(analysed_lst)\n",
    "    return (proportion_pos, proportion_neg)\n",
    "\n",
    "alpha = list_analyser(reddit_df['all comments'][0])\n",
    "alpha[:5]\n"
   ]
  },
  {
   "cell_type": "code",
   "execution_count": 490,
   "id": "1e179e40-ef6f-425e-bfdf-c59aca461a45",
   "metadata": {
    "tags": []
   },
   "outputs": [
    {
     "data": {
      "text/plain": [
       "'[3193, (\\'Dear Falcons fans: are you guys ready for 17 straight weeks of hearing how you fucked up the Super Bowl? I feel your pain. \\\\n\\\\nSincerely, \\\\n\\\\n\\\\nSeahawks fans everywhere.\\', 2993), (\\'#Fuckin Mark Wahlberg LEFT THE SUPER BOWL EARLY BECAUSE THE PATS WERE DOWN 28-3\\', 1543), (\"I\\'m naked and ready to go boys\", 1138), (\"Fuck this what the fuck we aren\\'t even playing\", 1107), (\\'There are actual people. Actual human beings. Who sat in a room one day and said \"hey, let\\\\\\'s play \\\\\\'Jump Around\\\\\\' when they unveil the Super Bowl thing.\"\\', 1075), (\\'WE MADE IT! THE OFF-SEASON IS OVER AND I LOVE ALL OF YOU. \\', 1060), (\\'\"Sometimes I think the Patriots have better Buffalo players than Buffalo\"\\\\n\\\\nFuck off.\\', 832), (\"Roses are red, \\\\n\\\\nViolets are blue.\\\\n\\\\nThis doesn\\'t rhyme,\\\\n\\\\nFuck Goodell. \", 758), (\\'Where do I apply for the \"Guy who holds the Microsoft Surface™ replay tablet\" position?  \\', 663), (\\'Game postponed for rain due to the insurmountable amount of cum from the Patriots being jerked off. \\', 654), (\\'>234 comments\\\\n\\\\n>8 minutes\\\\n\\\\nBoys, we have a severe addiction\\\\n\\\\nAnd the only solution?\\', 646), (\"#Welcome football addicts. Tell your loved ones goodbye, you\\'ll see them in February.\", 655), (\\'Are the Patriots the worst red zone team in the league? They account for 100% of the failed red zone drives this year but idk. \\', 648), (\\'Tell me when they stop talking about us\\', 613), (\\'Marky \"I\\\\\\'m not fairweather, my kid had a cold\" Mark Wahlberg\\', 604), (\\'[deleted]\\', 444), (\\'\"they call it the remainder that\\\\\\'s the number that remains\"\\\\n\\\\n\\\\nBig if true\\\\n\\\\n\\', 423), (\\'This is it.\\\\n\\\\nThis is finally the season that Tom Brady falls off \\\\n\\\\nI can feel it\\', 417), (\\'https://i.imgur.com/QKjlhMQ.png \\', 387), (\"Reminder.\\\\n\\\\nMark Wahlberg left the game early because he thought they\\'d lose \", 300), (\">Fun fact: Patriots are 81-0 when leading at halftime at Gillette Stadium in regular season.\\\\n\\\\nNow it\\'s 81-1. \\\\n\\\\n;) \", 297), (\\'[deleted]\\', 284), (\\'Kelce looks like 80s porn star, who comes to clean the pool, but leaves after banging your mom and sister\\', 278), (\"Smith is 16-19 for 128 yards and 2 TDs and y\\'alll mofos wanna bench him. smh\", 269), (\\'> Kelce or Gronk?\\\\n\\\\nThis dude for real? Gronk 100%\\', 251), (\\'\"Lets hold the world captive and make them watch us jerk off\"\\', 238), (\\'Brady just turned 41 waiting for people to get open.\\', 235), (\"Fuck, I don\\'t care if they shove Microsoft down our throats, if we get review angles the whole time during a commercial I\\'m fine with it.\", 225), (\\'\"I\\\\\\'d like to present these two balls...\"  \\\\n\\\\nBill\\\\\\'s life motto\\', 211), (\"Didn\\'t Mark Wahlberg depressingly leave at halftime?\", 212), (\\'Kelce: \"I don\\\\\\'t want to curse on here\"\\\\n\\\\n\"It\\\\\\'s okay we can bleep it out\"\\\\n\\\\nKelce: \"Okay good, I don\\\\\\'t want to be the idiot out here\"\\', 207), (\\'My girlfriend, tangentially paying attention just giggled \"This must suck for the Falcons\"\\', 206), (\\'Thread moving so fast no one will see that I sexually identify as a slug\\', 198), (\"#WE CALL IT THE REMAINDER THAT\\'S THE NUMBER THAT REMAINS\", 193), (\\'Friendship ended with Julian.\\\\n\\\\nNow Danny is my best friend.\\', 188), (\"LMFAO!!!!! The awkward, dorky guy from that show uses wrong sports terminology because he\\'s a nerd that doesn\\'t know anything about sports!!!! That\\'s fucking hilarious.\", 185), (\\'\"Welp, this game is in hand, time to head home\"\\\\n\\\\n-- Mark Wahlberg, probably\\', 175), (\\'Greatest improvement on team:\\\\nShows Cannon blocking no one\\', 175), (\\'just realized i hate everything on tv thats not football\\', 168), (\\'F O O O O T B A L L L \\', 153), (\\'God I hope NE never wins another SB again \\', 151), (\"Brady- 0 touchdowns\\\\n\\\\nSEX MAGNET SMITH- 2 touchdowns\\\\n\\\\nI think it\\'s clear who the real goat is\", 148), (\\'Thank you, Kansas City.\\\\n\\\\n-America\\', 142), (\\'[deleted]\\', 134), (\\'Alex Smith: 1TD\\\\n\\\\nTom Brady: 0TD\\\\n\\\\nSeems pretty clear who the real GOAT is.\\', 131), (\\'This nation has a lot of healing & coming together to do....\\\\n\\\\n.....and I think that watching the Chiefs waltz into Gillette & hand it to the Patriots in Week 1 is a great start.\\', 126), (\"There wasn\\'t a reason for Michaels to point out Peters didn\\'t stand for the anthem. Just trying to stir up some stuff.\", 126), (\\'GAME = MANAGED\\', 125), (\\'JAMES WHITE STIFF-ARMED HIM TO OBLIVION \\', 111), (\\'\"Trickery and deceit get you nowhere\"\\\\nAl Michaels\\\\n\\\\nDuring a Patriots game.\\', 108), (\\'> New England has better Buffalo players than Buffalo does. \\\\n\\\\nDamn...\\', 102), (\"UPVOTE IF YOU\\'RE HAPPY AF PATS SUFFERED A WEEK ONE UPSET\", 101), (\"Beer: Cold\\\\n\\\\nPizza: Hot\\\\n\\\\nDick: In hand\\\\n\\\\nWE\\'RE BACK BITCHES!!!\", 104), (\\'\\\\\\\\>Showing 28-3 score on board\\\\n\\\\nThis kills the Falcons.\\', 99), (\"No city jerks themselves off like Boston does. It\\'s incredible\", 103), (\"That was the cringiest fucking pregame I\\'ve ever seen.\", 97), (\\'OH MY GOD A REAL LIFE GAME THREAD BOYS\\', 95), (\\'The Chiefs made America proud tonight. What a season opener!\\', 98), (\"We\\'re one legless marathon runner and a bowl of clam chowder away from reaching Peak Boston right now.\", 94), (\\'[deleted]\\', 91), (\\'https://i.imgur.com/R16ehNf.jpg\\', 95), (\\'lol \"We have the best fans in the NFL\"\\', 93), (\\'\"The Patriots have better Buffalo players than Buffalo does\"...Cold Blooded Al\\', 93), (\"Please tell me the Pats run is over and we can return to the late 80\\'s version. \", 88), (\\'Pats getting knelt on at home week 1, life is good.\\', 86), (\"#Congratulations to America\\'s favorite team: whoever is playing the Patriots\", 85), (\\'Victory formation in the pats house with 2 min left. Fucking savage\\', 85), (\\'Fuck Mark Wahlberg and his Shitty Transformers movies \\', 80), (\\'2017 Patriots, first to be eliminated from perfect season contention. \\', 77), (\\'God this patriots jerk off is making me sick. \\', 76), (\"The Pats gave their fans five Superbowls and Pats fans can\\'t stay until the end of the opening game? Disrespect.\", 75), (\\'[Mark Whalberg right now](https://m.popkey.co/2083fd/WpJbg.gif)\\', 73), (\"Those 40 year old eyes can\\'t see where the line of scrimmage is now.\", 72), (\\'[deleted]\\', 69), (\"I mean let\\'s not forget the chiefs are a pretty good football team too\", 69), (\\'Alright patriots fans you are NO LONGER allowed to talk shit about other teams fanbases. \\\\n\\\\nNo more holier than thou shit when your fucking stadium IS EMPTY before the game is over on fucking opening night \\', 70), (\\'\"fans are in disbelief\"\\\\n\\\\nFucking serious? They\\\\\\'re down by one. The Linc would be losing their fucking minds supporting the birds. Patriots are spoiled.\\', 69), (\\'I am currently sitting down for the anthem.  \\', 66), (\\'Holy shit the empty stands. Fuck these shitty fans.\\', 71), (\\'So, just to be clear, the fans of the reigning SB champs just booed them and left the building before the end of the game...in the first game of the season\\\\n\\\\nWow.  Just...wow.  Talk about entitled\\', 66), (\"> I didn\\'t have a perfect game like I wanted \\\\n\\\\n-Kareem Hunt \", 66), (\"I\\'m genuinely sorry, Falcons fans. If I were in your shoes, this would make me sick.\", 66), (\\'That moment when you realize you waited 7 months just to see the Patriots on their bullshit again.\\', 65), (\\'The New England Patriots have been eliminated from 16-0 contention.\\', 65), (\"I have spicy chips, and two canker sores under my tongue. Looks like the players on the field aren\\'t the only ones going to be in pain while doing what they love\", 63), (\\'\"AlEX SmItH CaNT ThRow DeEP\"\\', 63), (\\'[deleted]\\', 62), (\\'Bills fans are probably so excited right now that they forgot in the 2nd quarter when Al Michaels said \"Sometimes I think the Patriots have better Buffalo players than Buffalo has.\"\\', 61), (\\'**THE PATRIOTS HAVE BEEN ELIMINATED FROM PERFECT SEASON CONTENTION**\\', 61), (\\'Kind of ironic Wahlberg would be talking about that comeback considering he [left before it happened](https://www.google.com/amp/s/www.cbssports.com/nfl/news/watch-mark-wahlberg-appears-to-leave-super-bowl-before-patriots-epic-comeback/amp/)\\', 56), (\"I seriously don\\'t care who wins, but holy shit are the Pats getting away with some holds tonight.\", 60), (\\'This is pretty horribly produced.\\', 54), (\\'\"Be sure to shame Marcas Peters folks!\"\\\\n\\', 58), (\"BAH GAWD, IT\\'S JOHN CENA 🎺^🎺 🎺^🎺 🎺^🎺 \", 53), (\"To the Pats fans mad NBC wouldn\\'t show the crowd earlier.......well there you go.\", 53), (\\'Tony Dungy is the worst.\\', 52), (\\'NE fans are an utter disgrace.\\', 53), (\\'21 unanswered in the 4th tho.\\', 53), (\\'I sat during the anthem AMA\\', 54), (\\'[What a stiff arm.](https://gfycat.com/SilentSentimentalBlackfly) (Courtesy of /u/timnog)\\', 56), (\"That OBJ commercial with the dude from Silicon Valley annoys me more than SWEET CAROLINE. HURR DURR GET IT, HE\\'S A NERD, HE DOESN\\'T KNOW SPORTS\", 52), (\"FOOTBALL IS BAAAAAAAAAAAAAAAAAAAAAAAAAAAAAAAAAACK\\\\n\\\\nWhile I have your attention, everyone in Florida, stay safe, don\\'t die. We love you and want you to be back for next weeks games.\", 53), (\"wow they\\'re finally learning how to put ads while still showing the game like Europe has been doing for 40 years.\", 52), (\\'\"A lil pullin, a lil tuggin, just two guys going at it\"\\', 50), (\\'The disrespect from the Pats fans is what got me. Like, damn. This team is defending champs and majority walked out on them.\\', 54), (\"Tom looked old tonight. The Pats will still probably go 10-6 this season though. I\\'m still grinning about all the reports of this being the best patriots team ever being totally shot down. This team isn\\'t anywhere near the same league as last year.\\\\n\\\\nAt least we won\\'t have to deal with the undefeated narrative all season. Hope Berry Amendola and Hightower recover quickly! Injury this early always hurts.\", 51), (\\'[THE STIFFEST OF ARMS](https://gfycat.com/SilentSentimentalBlackfly) (courtesy of /u/timnog).\\', 51), (\\'https://scontent.fmkc1-1.fna.fbcdn.net/v/t1.0-9/21462628_1437867836300492_7717958189851704379_n.jpg?oh=79a33aa29706921343fe4e579e9e3b11&oe=5A1858B8\\', 54), (\\'HERE WE GO BOYS, **FIRST COMMERCIAL BREAK OF THE SEASON!!!!!!** <3 <3 <3 <3\\', 53), (\\'Butthurt level at Gillette stadium: High\\', 44), (\"NE fans really got their team\\'s back.\", 46), (\\'Off to a good start to that 16-0 projection. Well done.\\\\n\\\\nAlso, 542 yards allowed and 6 TDs. Man, that is some solid at home D. \\\\n\\\\nBonus Points: Fans leaving well before game is over. Really shows how much pride they have and how capable they are when they have to endure one of their projected ZERO losses. Good lord. \\', 47), (\\'Pats are washed up bois, Jay Cutty is gonna be the new king of the AFCE\\', 46), (\\'I want to blow my brains out right now. \\', 46), (\\'That was legitimately awful \\', 45), (\\'What the fuck no holding? That KC guy was getting mauled\\', 47), (\\'\"We have seen Alex Smith at his best tonight.\"\\\\n\\\\nI\\\\\\'ll take \"Things I Thought I\\\\\\'d Never Hear in a Game Against Bill Belichick\" for $1000, Alex.\\', 43), (\\'\"Some\" credit to that Kansas City offense.\\\\n\\\\nWhat the fuck.\\', 48), (\\'BUT DID YOU KNOW THAT HUNT NEVER LOST A FUMBLE IN COLLEGE AND TONIGHT HE LOST ONE ON HIS VERY FIRST CARRY\\', 46), (\\'http://imgur.com/a/NF2T9?\\\\n\\\\nThis game made me feel like a fantasy savant and the Patriots got beat. I must be dreaming.\\', 49), (\\'BILL SMILED!!!! THIS IS NOT A DRILL!!!!!\\', 47), (\"Good morning from Beijing! I\\'m so ready for some football. It\\'s been a long time coming, folks!\", 44), (\\'Atlanta is getting ripped apart like St. Maarten in Irma\\', 46), (\\'OMG Al Michaels who fucking cares\\', 44), (\\'r/NFL Roast of: The Kansas City Chiefs 33/32\\', 42), (\\'Alex Smith with a \"fuck you for thinking about replacing me\" game. \\', 42), (\\'UPVOTES FOR EVERYONE \\', 45), (\"Oh my god shut up, we don\\'t care who kneeled during the anthem.\", 43), (\\'1 TIMEOUT LEFT AT THE HALF, AND WE SCORED! ANDY HAS EVOLVED.\\', 40), (\\'Alex Smith is not losing another starting job to a bi-racial quarterback. Not again. \\', 43), (\\'I love almost everyone tonight.\\', 44), (\"This amount of Patriots dick-sucking is intolerable if you\\'re not a Pats fan.\", 46), (\\'Marky mark has already left\\', 39), (\\'LOL. Some of you Pats fans.. \\\\n\\\\n\"We\\\\\\'re not going to lose a single game!\"\\\\n\\\\n*loses game*\\\\n\\\\n\"I never said anything, at least we got this loss out of the way, the rest of the season will be perfect!\"\\\\n\\\\nLmao. Stop.\\', 42), (\\'\"Marcus Peters with an interception! Good to note that he was the one player not to stand during the national anthem\"\\\\n\\\\n\"Peters with a big hit! Just like his big hit earlier before the game when he didn\\\\\\'t stand for the national anthem\"\\', 41), (\"Can we take a minute to acknowledge how much more infrequent the commercials are? Feels like I\\'m actually watching football \", 42), (\\'ALEX SMITH LEADS NFL IN TD PASSES \\', 41), (\\'holy shit only five yards? LOL\\', 40), (\\'\\\\\\\\#KickersLivesMatter\\', 38), (\\'[deleted]\\', 42), (\\'Today was a good day.\\', 39), (\\'Eric Berry pick six to win the game mark my words\\', 38), (\\'God damn that stiffarm\\', 43), (\\'WITH GOD AS MY WITNESS THAT MAN WAS JUST MURDERED ON LIVE TV\\', 40), (\\'I swear, the commentators could not sound less excited about the Chiefs winning.\\', 38), (\\'Holy hell that stadium is empty\\', 43), (\\'[Premature Soundbite] The 2018 MADDEN CURSE kicks in!!!\\', 39), (\\'Literally a televised circlejerk.\\', 39), (\"Wait, wait, wait... Patriots fans really don\\'t agree with that obvious PI call?  Lmao. \", 43), (\\'[deleted]\\', 38), (\\'This is too good to be real. Fuck Boston, we out. \\', 41), (\\'Love the contrast between the baby face and voice of Hunt and the big dick swinging beast of Houston. Cannot confirm that last part though. \\', 40), (\\'Brady over throws.  Old mans done.\\', 37), (\"What the fuck Toyota how you gonna have John Cena\\'s music in a commercial and not have Cena show up and AA someone\", 37), (\\'Come Monday morning, the Bills are going to be in sole possession of first in thr AFC East... Let that sink in.\\', 41), (\\'Al Michaels: HEY FOLKS POINT HIM OUT\\', 34), (\\'Here I thought the Bills roast thread was over\\', 33), (\\'\"Sometimes New England has better Bills players than the Bills have\" \\\\n\\\\nabsolutely brutal \\', 37), (\\'But what about left-footed punters \\', 39), (\"The Chiefs are by far the worst team I\\'ve seen play this season. Hopefully they can turn it around.\", 38), (\\'I know I should be used to it as a Chiefs fan, but it\\\\\\'s really annoying to watch everyone shit on the Chiefs when they have a bad drive or get thrashed on D because we \"suck\", but when we score or the Patriots get shredded, its because the Patriots were \"just a little off\" and we got lucky.\\', 38), (\\'FUCK ALL THE HATERS SMITH WILL TAKE THE CHIEFS TO THE SUPER BOWL.\\', 39), (\"Oh god if that\\'s the new Sunday night song, please NFL provide ear plugs.\", 35), (\\'Personal foul, Chiefs, forcing Brady to throw from across the line of scrimmage, result of the penalty is a TOUCHDOWN\\', 40), (\"LET\\'S FUCKING GO.\", 37), (\\'Alex \"~~check down~~ fuck it I\\\\\\'m goin deep\" Smith\\', 35), (\\'*Alex Smith throws it deep....twice*\\\\n\\\\n\"I fear all we have done is awoken a sleeping giant and filled him with a terrible resolve\"\\\\n\\\\n\\', 38), (\\'Holy shit. Pats look, deflated.\\', 41), (\\'Lol @ those fans. \"loyalty\"\\', 40), (\\'Tag me bitches. Pats go 9-7 this year.\\', 39), (\\'Fun fact: KC were also the last team to put 40+ points up against the Pats (2014) and the first team since 2012 to put up 40+ in Gillette Stadium\\', 35), (\\'Fun fact: In the Brady era, the New England Patriots are now 105-1 when going into the 4th quarter with a lead!\\', 34), (\\'Bob Costas going at the OT rules was entertaining. \\', 39), (\"Yahoo throwing shade at my 4th-round KHunt pick\\\\n\\\\nNow who\\'s laughing :<\", 36), (\\'Pats getting away with some big holds\\', 36), (\\'How the fuck is that not roughing the punter.\\', 33), (\"How\\'s that not 15\", 36), (\"This win was huge for us but losing Berry is devastating for our season. I hope he\\'s okay, but I\\'m expecting it to be season-ending.\", 34), (\\'13000 comments in one quarter. Good Lord, we needed football back so bad\\', 35), (\\'I dont wanna overreact, but I think the Patriots may never win a game ever again\\', 34), (\"Can\\'t wait to laugh at Brady\\'s illegal forward pass in 2028\", 30), (\"LET\\'S FUCKING GO\", 36), (\\'Marky Mark just left.\\', 35), (\\'What kind of Patriots fan would leave this game? Tom Brady is your QB, did you not watch the Super Bowl?\\', 32), (\\'instead of just admitting that the Pats are getting deep dicked by the chiefs, collinsworth keeps acting like they have a preseason 2nd string unit on the field.\\', 36), (\\'Please somebody post all the empty seats in Foxborough with still 3 minutes to go.\\', 33), (\"I\\'m going to overreact the hell out of this game and you can\\'t stop me.\", 35), (\"50+ comments in seconds. We\\'re all a little excited. \", 31), (\\'Woof. That was really cringey. \\', 32), (\"It\\'s so perfect that Mark Wahlberg does this intro, since he LEFT THE FUCKING SUPER BOWL IN THE 3RD!!!\", 33), (\\'The fuck is marren morris\\', 33), (\\'Is Brady getting senile ? More at 7.\\', 34), (\\'Brady channeling his inner Bortles\\', 32), (\"Being a fan of a team who\\'s had a few bad years now, the Pats crowd right now is baffling to me.  It\\'s a close game and they look like the world is ending.  I wish for games like this as a niners fan and would be pumped right now.  They\\'re quiet as fuck.\", 32), (\\'The worst team in the NFL, currently, is the New England Patriots.\\', 35), (\\'Got all that perfect season peskiness out of the way. \\', 34), (\\'wow Kareem hunt is a nice well-spoken young man\\', 35), (\\'Hunt is also a charming guy who is good in front of a camera, good to see it.  Hope he does well, that was incredibly impressive.\\', 34), (\"Brady\\'s throws were floating ducks tonight. He dropped a couple in the bucket nicely but I did not see any high velocity throws from him. On top of that they chose not to QB sneak him on the two 4th downs they failed to convert. If these were a few years ago he gets that 1st down on his own every time. \\\\n\\\\nAs impressive as the KC offense was, I think the game came down to those two 4th down stops. Pats could\\'ve ran away with the game either time if they convert those 4th downs and eventually turn them into TD\\'s. So credit to their D on that note. \", 31), (\\'lmao. grown man stiff arm\\', 30), (\"Brady\\'s protection is insane, but some of his throws have been very off\", 31), (\"Andy Reid with the masterful clock management. File that under things I didn\\'t think I\\'d say tonight\", 34), (\"All this complaining about the Pats not getting any penalties...well maybe the Chiefs should be more disciplined because they would probably be up if they didn\\'t do dumb shit. \", 31), (\\'Alex Smith quietly putting together one of the most impressive performances in quite awhile.\\\\n\\\\n23/28 312yds 4tds? np\\', 34), (\\'LOL New England fans win a Super Bowl then abandon their team first game\\', 33), (\"I don\\'t care how good the opponent\\'s offense is, when you give up 542 yards and 6 TDs your defense is absolute trash.\", 34), (\\'Yeah, Pats look bad now. Wait until they start playing their own division and they will start looking like a dynasty again. \\', 34), (\"Damn Kareem set a record.  That\\'s pretty incredible\", 32), (\\'As an Atlanta resident and Falcons fan...this is beautiful. \\', 31), (\"Lol they really had to tell us who didn\\'t stand\", 31), (\\'Damn Al Michales....  Those Bills fans have families \\', 30), (\\'Brady turned 41 before that play ended\\', 32), (\\'Kareem Hunt is legit. Chiefs got a massive steal with this kid. \\', 30), (\\'Bunch of you massholes wanted crowd shots. There were a few for ya. See what you wanted?\\', 32), (\"This is so cathartic to any team who\\'s ever had their heart smashed by the pats\", 30), (\"That\\'s embarrassing Pats fans.....\", 30), (\\'This game is one of the greatest things that has ever happened to me.\\', 32), (\"[When you\\'re a Miami fan about to face the full force of one of the worst hurricanes in history, but the Patriots just lost 42-27 on national television so this week is actually pretty good overall.](http://i.imgur.com/gooMuLD.gif)\", 33), (\\'Kareem Hunt seems like a good kid\\', 31), (\\'Holy shit we got shellacked great game Chiefs\\\\n\\', 33), (\\'BERRY! :(\\', 32), (\\'> Please welcome your defending Super Bowl champions!\\\\n\\\\nAnd then seven players blew out their knees running out of the tunnel.\\', 32), (\"Man Andy is lookin\\' slimmer, good for him\", 30), (\\'Mark Wahlberg has left the building.\\', 31), (\\'Shoutout to when everybody was calling for Mahomes mid-way through the 2nd\\', 30), (\"Old man Brady can\\'t do the sneak anymore\", 30), (\\'Oh boy I can\\\\\\'t wait for ESPN hot takes. From \"Pats will go undefeated\" to \"Is Tom Brady finally finished?\"\\', 32), (\\'After the Pats lose they will have the worst record in the league. Facts\\', 30), (\\'We are all chiefs on this blessed day \\', 30), (\\'19-0 talk is dead, 0-16 talk alive and well.\\', 29), (\\'Alex Smith:  \"Fuck Patrick Mahomes.\"\\', 29), (\"I\\'m just here for the upvotes.\\\\n\", 31), (\\'This intro is so over the top I can feel the hatred from non Patriots fans increasing ten fold. \\', 29), (\\'Commersial with gameplay. Kinda weird. \\', 27), (\\'That was just the NFL equivalent of getting dunked on, my god\\', 30), (\"When an O lineman bear hugs a guy for over a second, that\\'s generally supposed to be holding, right?\", 29), (\\'HOLY FUCKING SHIT ALEX\\', 28), (\\'Andy Reid: \"You may command the most evil elite football army ever assembled, but I\\\\\\'ve had 200 days to gameplan for this.\"\\', 29), (\\'Hey guys remember when the patriots decided to go for it on 4th instead of kicking a field goal\\', 27), (\\'\"LET\\\\\\'S FUCKING GO\"\\', 27), (\\'https://pbs.twimg.com/media/DJLCtDGVwAI8GY9.jpg\\', 30), (\"The Chiefs won the AFC West last year, the same division the previous Super Bowl team came from. And they\\'re acting like they came outta nowhere? Come the Fuck On!\", 30), (\\'Patriots winning: Tom Brady is amazing.\\\\nChiefs winning: Patriots defense is horrible.\\', 31), (\\'Everybody who wanted Patrick Mahomes an hour ago can fuck off\\', 27), (\\'LMAO GILETTE\\', 28), (\"Lmao, Pats win the SB last year and the fans can\\'t even stick out the opener\", 29), (\\'[HAHAHAHAHA](http://imgur.com/a/GGyQ3)\\', 31), (\\'🎵 Patriots are 0-1 🎵\\', 31), (\\'Andy fucking Reid.\\', 29), (\"I\\'m on the lookout for flair changes after this one.\", 30), (\\'fucktheraidersfucktheraidersfucktheraidersfucktheraidersfucktheraidersfucktheraidersfucktheraidersfucktheraidersfucktheraidersfucktheraidersfucktheraidersfucktheraidersfucktheraidersfucktheraidersfucktheraiders\\', 28), (\\'Tom Brady uses fat free mayonnaise \\', 26), (\\'SMUGNESS LEVEL: OVER 9000\\', 27), (\\'Holy fuck is this for real? I never disliked the Patriots until now. Thanks Marky Mark.\\\\n\\\\nWhen the fuck is kick off?\\', 27), (\"Sitting with my dad. Eating crap food and arguing about refs. \\\\n\\\\nI\\'m so happy football is back lol. \", 27), (\\'F O R M E R B A S K E T B A L L P L A Y E R\\\\n\\\\nO\\\\n\\\\nR\\\\n\\\\nM\\\\n\\\\nE\\\\n\\\\nR\\\\n\\\\nB\\\\n\\\\nA\\\\n\\\\nS\\\\n\\\\nK\\\\n\\\\nE\\\\n\\\\nT\\\\n\\\\nB\\\\n\\\\nA\\\\n\\\\nL\\\\n\\\\nL\\\\n\\\\nP\\\\n\\\\nL\\\\n\\\\nA\\\\n\\\\nY\\\\n\\\\nE\\\\n\\\\nR\\', 28), (\\'Happy birthday **TO THE GROUND**\\', 29), (\"Fuck all you smug Pats fans giving us shit.  Didn\\'t think we\\'d get to see a blown Gilmore coverage this early.\", 27), (\\'ok this olympics graphic is sick, nice nbc\\', 29), (\\'There have been some pretty egregious holds by that Pats o-line. Whatever you can get away with I guess \\', 27), (\\'>Every eleven years Brady gets an illegal forward pass\\\\n\\\\nAl Michaels is a professional shitposter\\', 29), (\\'Shout out to the poor bastards who have to wake up for work in the next 6 or 7 hours\\', 30), (\\'1st half - Chiefs are in trouble, this is going to be a blowout.\\\\n\\\\n2nd half - The Chiefs are going to be a team to contend with.\\\\n\\\\nNBC with no shame.\\', 29), (\"I\\'ll be honest I thought this game was over after Smith auto-sacked himself.\", 28), (\\'ROGER GOODELL SENDS HIS REGARDS\\', 28), (\\'not many pats flairs here for once\\', 29), (\\'What better way to start the season than watching the Patriots lose?\\', 26), (\"On the day when the Pats jerked off to their comeback, the Pats fans are gone down only 2 TD\\'s in the 4th.\\\\n\\\\nBeautiful.\", 28), (\"Hey announcers.   Two things. \\\\n\\\\n- KC is playing fucking amazing.  Talk more about that, less about the Pats.\\\\n- You can still have a \\'perfect\\' season if you start out 0-1.   Just ask the Lions. \", 27), (\\'Stop talking about the Pats now ffs, they should be on about how the Chiefs have taken advantage of match ups, how Smith has played. Who gives a fuck what the papers said in 2014.\\', 26), (\"Jesus dude. Buncha Marky Mark\\'s at the game tonight. Some fanship.\", 30), (\\'These fans.. Is this what a real life meme is?\\', 27), (\\'I cant stop jerking off\\', 27), (\\'Awesome. Loved watching the patriots lose opener at home. So beautiful\\', 25), (\\'* 16 of 36 \\\\n* Completion percentage: 44.4%\\\\n* 267 yards (7.4 YPA)\\\\n*  0 TDs \\\\n* 3 sacks\\\\n* Passer rating: 70.0.\\\\n\\\\nLadies and gentlemen, the greatest of all time.\\', 27), (\\'Amendola, Tyreek Hill, , Eric Berry, Hightower all got injured in this game...that sucks.\\', 29), (\\'that sound you heard was everyone in Atlanta blowing their brains out\\', 28), (\\'\"The Patriots have better Buffalo players than Buffalo has.\"\\', 25), (\\'[deleted]\\', 27), (\\'Hey guys, remember when Hunt fumbled on his first run?\\', 28), (\\'Did Marky Mark leave yet?\\', 27), (\\'[deleted]\\', 26), (\"Man, the home crowd at Gilette is not giving a good account of themselves tonight.  They\\'ll have to hold games at a high school stadium when Brady/Belichick retire\", 26), (\\'The New England Patriots are currently in 32nd place in the NFL standings.\\', 26), (\\'Pats fans left the stadium in the third quarter and left this thread a half hour ago.\\', 29), (\\'ESPN headlines tommorow: THE END IS NEAR FOR BRADY\\', 26), (\\'Mark Wahlberg is a fucking tool (and a shitty actor)\\', 26), (\"He got pushed tho... I mean I don\\'t care but I\\'d be pissed \", 27), (\\'Having Mcdonalds delivered is so fucking sad\\', 25), (\"Maybe these should be automatic first downs so they aren\\'t hitting them every time trying to get a block when they know it\\'s only 5 and not a first \", 25), (\"I\\'ve discovered how the pats offensive line is so good. They just tackle the defensive line. It\\'s genius. \", 26), (\\'# GUYS I WENT TO BRUSH MY TEETH AND I WAS HELD BY A KCC DEFENSIVE BACK ON MY WAY THERE\\', 26), (\\'[Smith to Hunt for the TD](https://streamable.com/36230)\\', 25), (\\'Pats O-Line look like they have lassos they holding so much \\', 24), (\\'Chris \"Crazy Eyes\" Hogan\\', 24), (\\'Chiefs finish what we couldnttttttt\\', 26), (\\'Oh god that empty stadium is brilliant\\', 28), (\\'Found the Patriots kryptonite. The shovel pass. \\', 26), (\\'Lol they forced Al Michaels to say that\\', 25), (\\'They made that look so fucking easy. No resistance from the Chiefs D at all.\\', 24), (\"I\\'m laying in bed about to fall asleep, but just wanted to say I\\'m really happy football is back and I hope everyone who has been struggling lately has a good night. \\\\n\\\\nAnd fuck Goodell \\\\n\", 23), (\\'Favres first pass was an INT. \\', 25), (\\'Im so glad they let them celebrate now\\', 24), (\\'\"One of the great elusive backs\"\\\\n\\\\n*WR1 on depth chart*\\', 26), (\"My dad once pronounced Publix \\'Pube Licks\\' and my life has never been the same\", 23), (\\'ITS TIME FOR THE NATIONS FAVORITE PART OF HALFTIME!\\\\n\\\\nWATCHING TONY DUNGY GIVE THE CAMERA A THOUSAND YARD STARE WHILE LOOKING INTO YOUR SOUL AND SUCKING IT OUT SHANG TSUNG STYLE!\\', 25), (\\'South Africa diamonds?? Good save Al\\', 24), (\\'Good thing /r/nfl crowned us after the first drive, so none of this matters.\\', 23), (\\'Pats fans look stunned when the camera was showing them. Even when they were down 1 with 13 minutes to go. Must be nice to be that good all the time.  \\', 24), (\"Half the stadium is gone...they have 4 minutes and the greatest QB/greatest comeback QB in history, they have won 5 Super Bowls in 15 years and half the fans couldn\\'t be bothered to stay the whole game. Ridiculous. \", 24), (\\'#G E T\\\\n\\\\n#E\\\\n\\\\n#T\\\\n\\\\n#F U C K E D\\\\n\\\\n#U\\\\n\\\\n#C\\\\n\\\\n#K\\\\n\\\\n#E\\\\n\\\\n#D\\\\n\\\\n#P A T R I O T S\\\\n\\\\n#A\\\\n\\\\n#T\\\\n\\\\n#R\\\\n\\\\n#I\\\\n\\\\n#O\\\\n\\\\n#T\\\\n\\\\n#S\\', 24), (\\'Roger Goodell is laughing his ass off right now \\', 25), (\"Pat\\'s perfect season 9/7/2017-9/8/2017 R.I.P.\", 26), (\"It\\'s always nice to watch the Patriots get completely dominated. Andy Reid is such an underrated coach. Way to show em Andy.\", 24), (\\'Pats starting the season 0-2 \\', 25), (\\'**Andy Reid just used his first timeout**\\', 24), (\\'This is just cruel lmao.\\', 25), (\"Good god, who the fuck cares about who\\'s standing or not anymore?\", 22), (\\'\"Patriots have better Buffalo players than Buffalo has.\"\\\\n\\\\nOof.\\', 23), (\\'New England is going to build a roster of nothing but former Browns, Bills, and Jets, and win more games than all three teams combined\\', 23), (\\'Fuck you Molly. Training robots to take our jobs.\\', 23), (\\'Got pushed right into him.\\\\n\\', 23), (\\'Bush Sr. looking rouuuuuugghhhh.\\', 25), (\\'Anyone else baked as hell rn?\\', 22), (\"No signs of a slump from the guy who hasn\\'t played yet.\", 24), (\"Welp, there was your obligatory Cowboys segment for the night. How could we forget America\\'s team?\", 25), (\"Honestly, I could be way off on these but my initial thoughts on this first half are\\\\n\\\\n* Brady looks underwhelming. There\\'s been throws that he\\'d normally make. Rushing and O-Line are carrying him hard so far\\\\n\\\\n* I can\\'t tell if Pats O-Line is that good or if Chiefs D-Line has just been that bad so far\\\\n\\\\n* Smith looks so underwhelming. I know he\\'s going to check down a lot but it feels like he\\'s causing the Pats to have easy sack opportunities \\\\n\\\\n* Hill\\'s getting too much rushing action and not enough targets (partially cuz Smith)\\\\n\\\\n* Hunt\\'s running is aggressive and impressive. His fumble wasn\\'t that bad for a fumble either. \", 24), (\\'[deleted]\\', 25), (\"I get that these are actual penalties but they are completely ignoring the holds by the Pats all game long. If you\\'re going to call them, then call them. \", 24), (\\'This poor punter.\\\\n\\\\n #PuntersArePeopleToo\\', 24), (\"Oh come on, that\\'s intentional\", 24), (\\'Complete the sentence: \"When you\\\\\\'re leading the Patriots in the 4th quarter, you ____ the ball.\"\\', 23), (\\'Hot Take: Father Time destroys Brady and Cutler ends up as the best QB in the division. Heard it here first, I think.\\', 25), (\\'[deleted]\\', 24), (\\'Thank god the heads won’t get to talk about how the Patriots were going to go undefeated.  Thanks KC. \\', 24), (\\'Brady is the worst 5-ring quarterback of all time\\', 24), (\"This being the opening game is so dope. It\\'s gonna be a great season. \", 26), (\\'[removed]\\', 22), (\"It\\'s going to be a perfect season for the Patriots. LOLOLOLOLOLOL\", 24), (\\'Watching the Patriots lose (especially in an embarrassing fashion) gives me almost as much thrill as watching the Bears lose.\\', 23), (\\'And the stadium is empty. Way to stand by your team Pats fans.....\\', 24), (\\'SHOW ME THAT EMPTY STADIUM! BRING OUT THE TARPS!\\', 23), (\\'Lmao patriots faithful. Empty stands ouch. \\', 25), (\\'A \"little\" credit to Andy Reid?  He is a very good coach.  Christ.\\', 23), (\\'RIP 2017 Pats Undefeated Season\\\\n\\\\nFeb 2017 - Sept 2017\\', 25), (\\'What a delight that was to behold. Perfect start to the season. \\', 25), (\\'fuck\\', 23), (\\'On this blessed day we are all Chiefs \\', 24), (\"I\\'m already frustrated with the Chiefs right now. Can\\'t imagine how their fans feel.\", 23), (\\'Some guy has a \"Julian take my ACL\" sign lol\\', 22), (\\'Almost 20,000 comments and only half time. May God have mercy on our souls. \\', 23), (\"You cant throw interceptions if you don\\'t throw it to defenders. MY GOD HE HAS CRACKED THE CODE LEAGUE OFFICIALLY FUCKED \", 22), (\\'Alex Smith bad at deep ball? Say whaaa?\\', 21), (\\'0-16 confirmed\\', 22), (\\'15 yards for a love tap to the nuts where you have a cup.\\\\n\\\\n5 yards for completely obliterating a kicker.\\\\n\\\\n# playersafety\\\\n\\\\n\\', 23), (\\'They should sit Eminem next to Carson Daly and Fred Durst.\\', 22), (\"Alex \\'Mahomes can stay the fuck away from my job\\' Smith\", 22), (\\'Pats fans are so weird \\\\n\\\\nBefore the game they were thinking perfect season\\\\n\\\\nNow they are down by one score and they think the season is over\\', 23), (\\'\"We can *not* emphasize enough how depleted the Patriots\\\\\\' roster is. Their defensive coordinator wasn\\\\\\'t expecting to be missing this many guys. Oh, and they\\\\\\'re incredibly thin on offense too. This isn\\\\\\'t the actual New England team we\\\\\\'ll be seeing the rest of the year. ^(oh yea, the chiefs are playing kinda well too).\"\\', 23), (\\'\"People in Atlanta will tell you it\\\\\\'s not over\"\\\\n\\\\nThey\\\\\\'re down 15 with 4 minutes to go. It\\\\\\'s over.\\', 23), (\\'PATRIOTS FANS ARE ALSEEP UPVOTE PARTY\\', 24), (\\'Stop KC.  I can only get so erect.\\', 22), (\\'FIRE UP THE MEMES FOLKS PATRIOTS ARE AVOCADO TOAST\\', 22), (\\'E M P T Y. \\', 23), (\"It\\'s funny going back 3 hours and seeing all the comments about how great the Pats are.\", 25), (\\'New England stadium is more empty than my love life\\', 23), (\\'The fans in the stadium are spread thinner than the patriots defense\\', 23), (\\'Rodney Harrison has left the building.\\\\nCould Boston be anymore ungrateful? Jesus. They just won you another fucking ring and you abandon them at first sight? #Whatafanbase\\', 23), (\"This is your regular reminder that NE fans are fucking pathetic when it comes to supporting their team when they\\'re down.\", 23), (\\'Remember that time when it was awesome to shit on all the Patriots bandwagon fans?\\\\n\\\\nBecause that time is right now!!!\\', 25), (\\'Anyone else think these announcers are mad biased towards the Pats? \\', 22), (\\'Quit without saving\\', 23), (\\'What a terrible choice of music \\', 22), (\"Unequivocally the Sweetest is probably the lamest branding I\\'ve ever heard.\", 23), (\\'Oh man, I forgot how much I loved football. \"What a way to start the season!\" cuts to commercial. \\\\n\\\\nYep. Good start.\\', 22), (\\'Lol seriously. Just calling Marcus Peters out. Damn. \\', 21), (\\'THANK YOU FOR TELLING US THEIR NAME, THANK YOU.\\', 22), (\\'Every incomplete pass ends up with a receiver calling for a flag. So annoying.\\\\n\\\\nThey should take a page from the NBA a few years back with penalizing players who would whine for fouls.\\', 23), (\\'>Can beat you with his legs\\\\n\\\\n>Trips over own feet resulting in sack\\\\n\\\\ncosmic\\', 23), (\\'That felt like an \"I know that should be illegal, but how do we call that\"....\\\\n\\\\n\\\\n.......\\\\n\\\\n\\\\n\"Fuck it just call holding, that\\\\\\'s easier.\"\\', 22), (\\'So face masks are ok if the pats do it?\\', 22), (\\'Alex Smith 2tds\\\\n\\\\nTom Brady 0tds\\\\n\\\\nALEX > TOM \\', 23), (\"My head says \\'go Pats\\' buy my heart is with the Chiefs. Wtf is wrong with me?\", 23), (\\'\"New England has recovered but who has the ball\" \\', 21), (\\'tyreek hill has recovered, but who has the ball???\\', 23), (\\'[deleted]\\', 21), (\\'Alex Smith 3tds\\\\n\\\\nTom Brady 0tds\\\\n\\\\nALEX > TOM \\', 22), (\\'Chiefs do this for me pls, make me happy before Irma fucks up my life.\\', 23), (\\'that better fucking be called holding\\', 21), (\\'Massive fucking hold by Pats o-line. Fucking bullshit! \\', 23), (\\'How in the world are they missing these holding calls? \\', 24), (\\'I wish they show the fucking holds\\', 21), (\\'smh Brady mental edge slipping...lower his Madden awareness to 98\\', 21), (\\'Brady: \"Haha I\\\\\\'m such a silly goose\"\\', 24), (\\'Holy shit they didnt get it. Why are they staying away from the Brady sneak? It was always so money.\\', 23), (\\'trailing by one point with 12 minutes left in the 4th and the stadium is in a state of disbelief!!! Ford Field would be celebrating at this score\\', 21), (\\'Someone should tell chiefs that kareem hunt is pretty good\\', 22), (\"Tom, you have to hold the X button to throw bullet passes, you\\'re just tapping it, and thats why they stay in the air so long.\", 23), (\"Is it just me or does Brady\\'s passes look more like they\\'re sailing more than usual? Might be nothing, but it\\'s disconcerting.\", 22), (\\'Some advice....just run the ball\\', 22), (\\'Nothing more appealing to NFL fans than Will & Grace.\\', 22), (\\'[deleted]\\', 22), (\"Did you know Tom Brady was a leader for racial integration in the 60\\'s, while he was in his early 20\\'s? #BradyFacts\", 22), (\"I swear. Chiefs looked like SB favorites. Please don\\'t let berry have a significant injury. Please. They are so fun to watch. I love a well coached Andy Reid team.\", 21), (\\'I LOVE YOU ALL.\\', 23), (\\'Pats fans are pathetic. They lose one game and act like the season is over.\\', 23), (\"I hope Alex Smith\\'s game tonight quiets some people here for a minute that he doesn\\'t throw past 10 yards. \", 23), (\\'If you really focus, you can sense 67,000 Pats fans feeling victimized by Roger Goodell for opening up the season 0-1...\\', 22), (\\'Alex Smith and the Chiefs look like a bunch of guys who really want to win the Super Bowl this year.\\', 23), (\\'Oh shit. Pats are in last place in the AFC east!!!! \\', 24), (\\'Half the stadium clears out for a 15 point loss for a team with the greatest comeback in Super Bowl history, gotta love it.\\', 22), (\\'Love the absolute defeat of Brady in the last couple minutes, 2 sacks to add insult to injury! \\', 22), (\"Didn\\'t it come out that Mark left the game early or turned it off before the end?\", 22), (\"That was the most interesting KC drive I\\'ve seen in years, they are usually the most boring offense to watch\", 23), (\"The rapping teacher: when you can\\'t rap well enough to get paid money to do it, and you can\\'t teach well enough to do it without gimmicks\", 22), (\\'Wow this is so much more fun than the offseason\\', 22), (\\'Baw gaaawd that man had a family\\', 20), (\\'Anyone else really just hoping for a tie? Preferably one so confidence shaking that both teams nosedive for the remainder of the NFL. \\', 20), (\\'THE PATRIOTS HAVE BETTER BUFFALO PLAYERS THAN BUFFALO HAS.\\\\n\\\\nNEVER HAVE TRUER WORDS EVEN BEEN SPOKEN\\', 20), (\\'Al Michaels can go and fuck himself.\\', 21), (\\'Lol @ bills\\', 21), (\\'Most unearned sack of all time.\\', 21), (\\'Alex Smith with these downfield pump fakes is giving me blue balls. \\', 19), (\\'[deleted]\\', 22), (\\'[deleted]\\', 22), (\\'Y\\\\\\'all know you\\\\\\'re thinking of \"No country for old men\" \\\\n\\\\nWhat a great movie.\\', 22), (\\'god damn yall motherfuckers actin like Brady aint just come back 28-3 in the superbowl that bitch aint dead yet \\', 21), (\\'Blatant OL holding there\\', 21)]'"
      ]
     },
     "execution_count": 490,
     "metadata": {},
     "output_type": "execute_result"
    }
   ],
   "source": [
    "lst = reddit_df['all comments'][0]\n",
    "lst"
   ]
  },
  {
   "cell_type": "code",
   "execution_count": null,
   "id": "29e463fa-7370-49e6-9b1e-b808b16b0487",
   "metadata": {
    "tags": []
   },
   "outputs": [],
   "source": [
    "reddit_df['sentiment_scores'] = reddit_df['all comments'].apply(list_analyser)\n",
    "reddit_df['props'] = reddit_df['sentiment_scores'].apply(prop_calculator)\n",
    "reddit_df.head()"
   ]
  },
  {
   "cell_type": "code",
   "execution_count": 238,
   "id": "3cf057b8-deb1-4cf0-bec9-3d066fda5e30",
   "metadata": {
    "tags": []
   },
   "outputs": [
    {
     "name": "stderr",
     "output_type": "stream",
     "text": [
      "[nltk_data] Downloading package punkt to /Users/rohanjha/nltk_data...\n",
      "[nltk_data]   Package punkt is already up-to-date!\n"
     ]
    },
    {
     "data": {
      "text/plain": [
       "True"
      ]
     },
     "execution_count": 238,
     "metadata": {},
     "output_type": "execute_result"
    }
   ],
   "source": [
    "import nltk\n",
    "import nltk.corpus\n",
    "from nltk.tokenize import word_tokenize\n",
    "nltk.download('punkt')"
   ]
  },
  {
   "cell_type": "code",
   "execution_count": 263,
   "id": "1d938155-ad86-45e4-9e04-182cd8e5387d",
   "metadata": {
    "tags": []
   },
   "outputs": [
    {
     "data": {
      "text/plain": [
       "['Bosa',\n",
       " 'literally',\n",
       " 'gets',\n",
       " 'held',\n",
       " 'next',\n",
       " 'to',\n",
       " 'that',\n",
       " 'like',\n",
       " 'come',\n",
       " 'on']"
      ]
     },
     "execution_count": 263,
     "metadata": {},
     "output_type": "execute_result"
    }
   ],
   "source": [
    "token = word_tokenize(text)\n",
    "token"
   ]
  },
  {
   "cell_type": "code",
   "execution_count": 264,
   "id": "92542450-e288-43be-8965-4e23c27732e9",
   "metadata": {
    "tags": []
   },
   "outputs": [
    {
     "data": {
      "text/plain": [
       "['bosa', 'liter', 'get', 'held', 'next', 'to', 'that', 'like', 'come', 'on']"
      ]
     },
     "execution_count": 264,
     "metadata": {},
     "output_type": "execute_result"
    }
   ],
   "source": [
    "from nltk.stem import PorterStemmer\n",
    "pst = PorterStemmer()\n",
    "stemmed_words = [pst.stem(x) for x in token]\n",
    "stemmed_words"
   ]
  },
  {
   "cell_type": "code",
   "execution_count": 265,
   "id": "fd65d85e-f2e9-482d-9970-56c80081e962",
   "metadata": {
    "tags": []
   },
   "outputs": [
    {
     "name": "stderr",
     "output_type": "stream",
     "text": [
      "[nltk_data] Downloading package wordnet to\n",
      "[nltk_data]     /Users/rohanjha/nltk_data...\n",
      "[nltk_data]   Package wordnet is already up-to-date!\n"
     ]
    },
    {
     "data": {
      "text/plain": [
       "['bosa', 'liter', 'get', 'held', 'next', 'to', 'that', 'like', 'come', 'on']"
      ]
     },
     "execution_count": 265,
     "metadata": {},
     "output_type": "execute_result"
    }
   ],
   "source": [
    "nltk.download('wordnet')\n",
    "from nltk.stem import WordNetLemmatizer\n",
    "lemmatizer = WordNetLemmatizer()\n",
    "lemmatized_words = [lemmatizer.lemmatize(x) for x in stemmed_words]\n",
    "lemmatized_words"
   ]
  },
  {
   "cell_type": "code",
   "execution_count": 266,
   "id": "a3ff56ad-c3ff-4964-8925-9113564b6631",
   "metadata": {
    "tags": []
   },
   "outputs": [
    {
     "data": {
      "text/plain": [
       "['bosa', 'liter', 'get', 'held', 'next', 'like', 'come']"
      ]
     },
     "execution_count": 266,
     "metadata": {},
     "output_type": "execute_result"
    }
   ],
   "source": [
    "from nltk.corpus import stopwords\n",
    "a = set(stopwords.words('english'))\n",
    "no_stopwords = [x for x in lemmatized_words if x not in a]\n",
    "no_stopwords"
   ]
  },
  {
   "cell_type": "code",
   "execution_count": 267,
   "id": "a0d43a2e-f49b-4f5b-8081-616b8ebad1df",
   "metadata": {
    "tags": []
   },
   "outputs": [
    {
     "name": "stdout",
     "output_type": "stream",
     "text": [
      "[('Bosa', 'NNP')]\n",
      "[('literally', 'RB')]\n",
      "[('gets', 'VBZ')]\n",
      "[('held', 'NN')]\n",
      "[('next', 'JJ')]\n",
      "[('to', 'TO')]\n",
      "[('that', 'IN')]\n",
      "[('like', 'IN')]\n",
      "[('come', 'VB')]\n",
      "[('on', 'IN')]\n"
     ]
    },
    {
     "name": "stderr",
     "output_type": "stream",
     "text": [
      "[nltk_data] Downloading package averaged_perceptron_tagger to\n",
      "[nltk_data]     /Users/rohanjha/nltk_data...\n",
      "[nltk_data]   Package averaged_perceptron_tagger is already up-to-\n",
      "[nltk_data]       date!\n"
     ]
    }
   ],
   "source": [
    "nltk.download('averaged_perceptron_tagger')\n",
    "for word in token:\n",
    "    print(nltk.pos_tag([word]))"
   ]
  },
  {
   "cell_type": "code",
   "execution_count": 268,
   "id": "02237dfa-bdef-4e42-a88b-958384816862",
   "metadata": {
    "tags": []
   },
   "outputs": [
    {
     "data": {
      "text/plain": [
       "FreqDist({'bosa': 1, 'liter': 1, 'get': 1, 'held': 1, 'next': 1, 'like': 1, 'come': 1})"
      ]
     },
     "execution_count": 268,
     "metadata": {},
     "output_type": "execute_result"
    }
   ],
   "source": [
    "from nltk.probability import FreqDist\n",
    "fdist = FreqDist([pst.stem(x) for x in no_stopwords])\n",
    "fdist"
   ]
  },
  {
   "cell_type": "code",
   "execution_count": null,
   "id": "48c69cea-d209-4777-b52a-2de80a406edb",
   "metadata": {},
   "outputs": [],
   "source": []
  }
 ],
 "metadata": {
  "kernelspec": {
   "display_name": "Python [conda env:sklearn-env] *",
   "language": "python",
   "name": "conda-env-sklearn-env-py"
  },
  "language_info": {
   "codemirror_mode": {
    "name": "ipython",
    "version": 3
   },
   "file_extension": ".py",
   "mimetype": "text/x-python",
   "name": "python",
   "nbconvert_exporter": "python",
   "pygments_lexer": "ipython3",
   "version": "3.11.0"
  }
 },
 "nbformat": 4,
 "nbformat_minor": 5
}

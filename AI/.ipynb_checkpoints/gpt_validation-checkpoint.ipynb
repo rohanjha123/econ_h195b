{
 "cells": [
  {
   "cell_type": "code",
   "execution_count": 1,
   "id": "97084437-4022-44e0-936d-36075792cb79",
   "metadata": {},
   "outputs": [],
   "source": [
    "import pandas as pd\n",
    "import numpy as np"
   ]
  },
  {
   "cell_type": "code",
   "execution_count": 22,
   "id": "ae42cfa0-1a6f-4201-99d9-ca6ca0bc8900",
   "metadata": {},
   "outputs": [
    {
     "data": {
      "text/html": [
       "<div>\n",
       "<style scoped>\n",
       "    .dataframe tbody tr th:only-of-type {\n",
       "        vertical-align: middle;\n",
       "    }\n",
       "\n",
       "    .dataframe tbody tr th {\n",
       "        vertical-align: top;\n",
       "    }\n",
       "\n",
       "    .dataframe thead th {\n",
       "        text-align: right;\n",
       "    }\n",
       "</style>\n",
       "<table border=\"1\" class=\"dataframe\">\n",
       "  <thead>\n",
       "    <tr style=\"text-align: right;\">\n",
       "      <th></th>\n",
       "      <th>Texts</th>\n",
       "      <th>vader</th>\n",
       "      <th>gpt</th>\n",
       "      <th>human</th>\n",
       "      <th>processing</th>\n",
       "    </tr>\n",
       "  </thead>\n",
       "  <tbody>\n",
       "    <tr>\n",
       "      <th>0</th>\n",
       "      <td>The Purdy-Kittle connection is something special.</td>\n",
       "      <td>positive</td>\n",
       "      <td>positive</td>\n",
       "      <td>positive</td>\n",
       "      <td>1.0</td>\n",
       "    </tr>\n",
       "    <tr>\n",
       "      <th>1</th>\n",
       "      <td>Super bad play... That could have broken his neck</td>\n",
       "      <td>negative</td>\n",
       "      <td>negative</td>\n",
       "      <td>negative</td>\n",
       "      <td>1.0</td>\n",
       "    </tr>\n",
       "    <tr>\n",
       "      <th>2</th>\n",
       "      <td>SCARY TERRY HALLLOWEEN SPECIAL BITCHES</td>\n",
       "      <td>negative</td>\n",
       "      <td>positive</td>\n",
       "      <td>positive</td>\n",
       "      <td>1.0</td>\n",
       "    </tr>\n",
       "    <tr>\n",
       "      <th>3</th>\n",
       "      <td>This would be a great game in like any other s...</td>\n",
       "      <td>positive</td>\n",
       "      <td>negative</td>\n",
       "      <td>neutral</td>\n",
       "      <td>1.0</td>\n",
       "    </tr>\n",
       "    <tr>\n",
       "      <th>4</th>\n",
       "      <td>CRIPPLE FIIIIIIIGHT</td>\n",
       "      <td>neutral</td>\n",
       "      <td>negative</td>\n",
       "      <td>negative</td>\n",
       "      <td>1.0</td>\n",
       "    </tr>\n",
       "    <tr>\n",
       "      <th>...</th>\n",
       "      <td>...</td>\n",
       "      <td>...</td>\n",
       "      <td>...</td>\n",
       "      <td>...</td>\n",
       "      <td>...</td>\n",
       "    </tr>\n",
       "    <tr>\n",
       "      <th>95</th>\n",
       "      <td>Let the flag fest\\n\\n**BEGIIIIIIIIN**</td>\n",
       "      <td>neutral</td>\n",
       "      <td>negative</td>\n",
       "      <td>negative</td>\n",
       "      <td>1.0</td>\n",
       "    </tr>\n",
       "    <tr>\n",
       "      <th>96</th>\n",
       "      <td>Anyone up for just calling it? A tie would be ...</td>\n",
       "      <td>negative</td>\n",
       "      <td>negative</td>\n",
       "      <td>negative</td>\n",
       "      <td>1.0</td>\n",
       "    </tr>\n",
       "    <tr>\n",
       "      <th>97</th>\n",
       "      <td>Why can't Aaron Fucking Rodgers have a bad kne...</td>\n",
       "      <td>negative</td>\n",
       "      <td>negative</td>\n",
       "      <td>negative</td>\n",
       "      <td>1.0</td>\n",
       "    </tr>\n",
       "    <tr>\n",
       "      <th>98</th>\n",
       "      <td>any raiders fans want to fight in the internet...</td>\n",
       "      <td>negative</td>\n",
       "      <td>negative</td>\n",
       "      <td>neutral</td>\n",
       "      <td>1.0</td>\n",
       "    </tr>\n",
       "    <tr>\n",
       "      <th>99</th>\n",
       "      <td>Announcer: DEFINITELY NOT TOUCHED. \\n\\nCome ba...</td>\n",
       "      <td>positive</td>\n",
       "      <td>negative</td>\n",
       "      <td>negative</td>\n",
       "      <td>1.0</td>\n",
       "    </tr>\n",
       "  </tbody>\n",
       "</table>\n",
       "<p>100 rows × 5 columns</p>\n",
       "</div>"
      ],
      "text/plain": [
       "                                                Texts     vader       gpt  \\\n",
       "0   The Purdy-Kittle connection is something special.  positive  positive   \n",
       "1   Super bad play... That could have broken his neck  negative  negative   \n",
       "2              SCARY TERRY HALLLOWEEN SPECIAL BITCHES  negative  positive   \n",
       "3   This would be a great game in like any other s...  positive  negative   \n",
       "4                                 CRIPPLE FIIIIIIIGHT   neutral  negative   \n",
       "..                                                ...       ...       ...   \n",
       "95              Let the flag fest\\n\\n**BEGIIIIIIIIN**   neutral  negative   \n",
       "96  Anyone up for just calling it? A tie would be ...  negative  negative   \n",
       "97  Why can't Aaron Fucking Rodgers have a bad kne...  negative  negative   \n",
       "98  any raiders fans want to fight in the internet...  negative  negative   \n",
       "99  Announcer: DEFINITELY NOT TOUCHED. \\n\\nCome ba...  positive  negative   \n",
       "\n",
       "       human  processing  \n",
       "0   positive         1.0  \n",
       "1   negative         1.0  \n",
       "2   positive         1.0  \n",
       "3    neutral         1.0  \n",
       "4   negative         1.0  \n",
       "..       ...         ...  \n",
       "95  negative         1.0  \n",
       "96  negative         1.0  \n",
       "97  negative         1.0  \n",
       "98   neutral         1.0  \n",
       "99  negative         1.0  \n",
       "\n",
       "[100 rows x 5 columns]"
      ]
     },
     "execution_count": 22,
     "metadata": {},
     "output_type": "execute_result"
    }
   ],
   "source": [
    "df_4 = pd.read_csv('AI/gpt_test.csv').iloc[:100,1:]\n",
    "for col in df.columns[1:]:\n",
    "    df[col] = df[col].str.lower()"
   ]
  },
  {
   "cell_type": "code",
   "execution_count": 31,
   "id": "4a1c45fc-91a3-4ad4-9670-9f8dbfd6e822",
   "metadata": {},
   "outputs": [
    {
     "name": "stdout",
     "output_type": "stream",
     "text": [
      "human     negative  neutral  positive\n",
      "vader                                \n",
      "negative        33        2         4\n",
      "neutral         10        6         3\n",
      "positive        23        8        11\n"
     ]
    }
   ],
   "source": [
    "vader_df = pd.pivot_table(df,index='vader',columns='human',values='Texts',aggfunc='count',fill_value=0)\n",
    "print(vader_df)"
   ]
  },
  {
   "cell_type": "code",
   "execution_count": 32,
   "id": "a2addaf5-d6a0-4341-a159-a95b733b8958",
   "metadata": {},
   "outputs": [
    {
     "name": "stdout",
     "output_type": "stream",
     "text": [
      "human     negative  neutral  positive\n",
      "gpt                                  \n",
      "negative        57        4         1\n",
      "neutral          6       10         2\n",
      "positive         3        2        15\n"
     ]
    }
   ],
   "source": [
    "print(pd.pivot_table(df,index='gpt',columns='human',values='Texts',aggfunc='count',fill_value=0))"
   ]
  },
  {
   "cell_type": "code",
   "execution_count": null,
   "id": "692d85e2-1890-40e7-9b0e-833d62460045",
   "metadata": {},
   "outputs": [],
   "source": []
  }
 ],
 "metadata": {
  "kernelspec": {
   "display_name": "Python [conda env:sklearn-env]",
   "language": "python",
   "name": "conda-env-sklearn-env-py"
  },
  "language_info": {
   "codemirror_mode": {
    "name": "ipython",
    "version": 3
   },
   "file_extension": ".py",
   "mimetype": "text/x-python",
   "name": "python",
   "nbconvert_exporter": "python",
   "pygments_lexer": "ipython3",
   "version": "3.11.0"
  }
 },
 "nbformat": 4,
 "nbformat_minor": 5
}

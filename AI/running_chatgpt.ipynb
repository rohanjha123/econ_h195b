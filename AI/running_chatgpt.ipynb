{
 "cells": [
  {
   "cell_type": "code",
   "execution_count": 2,
   "id": "8a968334-f64d-41ad-bcc8-471af9963408",
   "metadata": {},
   "outputs": [
    {
     "name": "stdout",
     "output_type": "stream",
     "text": [
      "Requirement already satisfied: nltk in /Users/rohanjha/.pyenv/versions/3.11.1/lib/python3.11/site-packages (3.8.1)\n",
      "Requirement already satisfied: click in /Users/rohanjha/.pyenv/versions/3.11.1/lib/python3.11/site-packages (from nltk) (8.1.3)\n",
      "Requirement already satisfied: joblib in /Users/rohanjha/.pyenv/versions/3.11.1/lib/python3.11/site-packages (from nltk) (1.2.0)\n",
      "Requirement already satisfied: regex>=2021.8.3 in /Users/rohanjha/.pyenv/versions/3.11.1/lib/python3.11/site-packages (from nltk) (2023.5.5)\n",
      "Requirement already satisfied: tqdm in /Users/rohanjha/.pyenv/versions/3.11.1/lib/python3.11/site-packages (from nltk) (4.65.0)\n",
      "\n",
      "\u001b[1m[\u001b[0m\u001b[34;49mnotice\u001b[0m\u001b[1;39;49m]\u001b[0m\u001b[39;49m A new release of pip is available: \u001b[0m\u001b[31;49m23.3.2\u001b[0m\u001b[39;49m -> \u001b[0m\u001b[32;49m24.0\u001b[0m\n",
      "\u001b[1m[\u001b[0m\u001b[34;49mnotice\u001b[0m\u001b[1;39;49m]\u001b[0m\u001b[39;49m To update, run: \u001b[0m\u001b[32;49mpip install --upgrade pip\u001b[0m\n"
     ]
    }
   ],
   "source": [
    "import pandas as pd\n",
    "import numpy as np\n",
    "import zipfile\n",
    "\n",
    "!pip install nltk\n",
    "import re\n",
    "import nltk \n",
    "import string\n",
    "from markdown import Markdown\n",
    "from io import StringIO\n",
    "\n",
    "# !pip install vaderSentiment\n",
    "\n",
    "from openai import OpenAI"
   ]
  },
  {
   "cell_type": "code",
   "execution_count": 3,
   "id": "b7eee34d-81b0-4d23-937a-18435002447e",
   "metadata": {},
   "outputs": [],
   "source": [
    "client = OpenAI(api_key=\"...\")"
   ]
  },
  {
   "cell_type": "code",
   "execution_count": 4,
   "id": "5afcaea3-022d-43da-a0e2-2f59aac4cd21",
   "metadata": {},
   "outputs": [
    {
     "name": "stderr",
     "output_type": "stream",
     "text": [
      "/opt/homebrew/Caskroom/miniforge/base/envs/sklearn-env/lib/python3.11/site-packages/numpy/core/fromnumeric.py:3156: VisibleDeprecationWarning: Creating an ndarray from ragged nested sequences (which is a list-or-tuple of lists-or-tuples-or ndarrays with different lengths or shapes) is deprecated. If you meant to do this, you must specify 'dtype=object' when creating the ndarray.\n",
      "  return asarray(a).ndim\n"
     ]
    }
   ],
   "source": [
    "with zipfile.ZipFile(\"../data/reddit_scrape.csv.zip\") as z:\n",
    "    with z.open(\"reddit_scrape.csv\") as f:\n",
    "        reddit_df = pd.read_csv(f)\n",
    "\n",
    "reddit_df['Date'] = pd.to_datetime(reddit_df['Date'])    \n",
    "reddit_df.head()\n",
    "\n",
    "scrape_cols = [x for x in reddit_df.columns if 'craped' in x]\n",
    "for col in scrape_cols: # converts strings to lists\n",
    "    reddit_df[col] = reddit_df[col].apply(lambda x: eval(x) if type(x)==str else x)\n",
    "\n",
    "    \n",
    "reddit_df['game_thread_comments'] = [lst[1:] for lst in reddit_df.loc[:,'Game thread scraped']]\n",
    "reddit_df['post_game_thread_comments'] = [lst[1:] if type(lst)==list else lst for lst in reddit_df.loc[:,'Post game thread Scraped']]\n",
    "reddit_df['all comments'] =  reddit_df['game_thread_comments'] + reddit_df['post_game_thread_comments']\n",
    "reddit_df.loc[reddit_df['all comments'].isna(),'all comments'] = \\\n",
    "        [lst[1:] for lst in reddit_df.loc[reddit_df['all comments'].isna(),'Game thread scraped']]\n",
    "reddit_df.drop(columns=['game_thread_comments','post_game_thread_comments'],inplace=True)\n"
   ]
  },
  {
   "cell_type": "markdown",
   "id": "0e5cd93a-8f7e-4d24-860c-fc40400e153a",
   "metadata": {
    "tags": []
   },
   "source": [
    "# Cleaning Text"
   ]
  },
  {
   "cell_type": "code",
   "execution_count": 5,
   "id": "4d0006ca-7663-4be7-945f-e92e620f4ee0",
   "metadata": {},
   "outputs": [
    {
     "data": {
      "text/plain": [
       "'Dear Falcons fans: are you guys ready for 17 straight weeks of hearing how you fucked up the Super Bowl? I feel your pain. Sincerely, Seahawks fans everywhere.'"
      ]
     },
     "execution_count": 5,
     "metadata": {},
     "output_type": "execute_result"
    }
   ],
   "source": [
    "def unmark_element(element, stream=None):\n",
    "    if stream is None:\n",
    "        stream = StringIO()\n",
    "    if element.text:\n",
    "        stream.write(element.text)\n",
    "    for sub in element:\n",
    "        unmark_element(sub, stream)\n",
    "    if element.tail:\n",
    "        stream.write(element.tail)\n",
    "    return stream.getvalue()\n",
    "\n",
    "# patching Markdown\n",
    "Markdown.output_formats[\"plain\"] = unmark_element\n",
    "__md = Markdown(output_format=\"plain\")\n",
    "__md.stripTopLevelTags = False\n",
    "\n",
    "\n",
    "def unmark(text):\n",
    "    return __md.convert(text).replace(\" \\n\",\" \")\n",
    "\n",
    "text = reddit_df['Game thread scraped'][0][1][0]\n",
    "text = unmark(text).replace(\" \\n\",\" \")\n",
    "text"
   ]
  },
  {
   "cell_type": "code",
   "execution_count": 6,
   "id": "4e38f69c-8b6f-4ad2-9ad2-f8aeaefb3e19",
   "metadata": {},
   "outputs": [
    {
     "data": {
      "text/plain": [
       "'Dear Falcons fans are you guys ready for 17 straight weeks of hearing how you fucked up the Super Bowl I feel your pain Sincerely Seahawks fans everywhere'"
      ]
     },
     "execution_count": 6,
     "metadata": {},
     "output_type": "execute_result"
    }
   ],
   "source": [
    "text = text.translate(str.maketrans('', '', string.punctuation))\n",
    "text"
   ]
  },
  {
   "cell_type": "code",
   "execution_count": 7,
   "id": "4c070f9a-f7ac-464d-a47e-39dda36574fe",
   "metadata": {},
   "outputs": [
    {
     "name": "stdout",
     "output_type": "stream",
     "text": [
      "The SuperBowl is a great event.\n"
     ]
    }
   ],
   "source": [
    "def convert_super_bowl(text):\n",
    "    # Use regular expression to find and replace \"super bowl\" with \"superbowl\" (case-insensitive)\n",
    "    modified_text = re.sub(r'\\b(super)\\s+(bowl)\\b', r'\\1\\2', text, flags=re.IGNORECASE)\n",
    "    return modified_text\n",
    "\n",
    "# Example usage:\n",
    "original_text = \"The Super Bowl is a great event.\"\n",
    "converted_text = convert_super_bowl(original_text)\n",
    "print(converted_text)\n"
   ]
  },
  {
   "cell_type": "code",
   "execution_count": 8,
   "id": "f9cdcc3f-a51a-45f4-bc8d-74c0e93bd778",
   "metadata": {},
   "outputs": [],
   "source": [
    "def clean_text(sentence):\n",
    "    text = unmark(sentence).replace(\" \\n\",\" \")\n",
    "    text = convert_super_bowl(text)\n",
    "    text = text.translate(str.maketrans('', '', string.punctuation))\n",
    "    return text"
   ]
  },
  {
   "cell_type": "markdown",
   "id": "7734e53f-ea78-4412-a212-09095197e9ec",
   "metadata": {},
   "source": [
    "# Using ChatGPT"
   ]
  },
  {
   "cell_type": "code",
   "execution_count": 9,
   "id": "b341a2a9-1003-4175-81a9-8acaacd3155f",
   "metadata": {},
   "outputs": [],
   "source": [
    "from tenacity import (\n",
    "    retry,\n",
    "    stop_after_attempt,\n",
    "    wait_random_exponential,\n",
    ") \n",
    "\n",
    "@retry(wait=wait_random_exponential(min=1, max=60), stop=stop_after_attempt(3))\n",
    "def sentiment_analysis(transcription):\n",
    "    response = client.chat.completions.create(\n",
    "        model=\"gpt-3.5-turbo-0125\",\n",
    "        temperature=0,\n",
    "        messages=[\n",
    "            {\n",
    "                \"role\": \"system\",\n",
    "                \"content\": \"As an AI with expertise in language and emotion analysis, your task is to analyze the sentiment of the following comment. This comment was posted on the r/nfl subreddit after a regular season NFL match. Please consider the overall tone of the discussion, the emotion conveyed by the language used, and the context in which words and phrases are used. Use one word to indicate whether the sentiment is generally positive, negative, or neutral. Be careful about sarcastic comments, indicating neutral if you are unsure about the sentiment in a comment.\"\n",
    "            },\n",
    "            {\n",
    "                \"role\": \"user\",\n",
    "                \"content\": transcription\n",
    "            }\n",
    "        ],\n",
    "        max_tokens=1\n",
    "    )\n",
    "    if response.choices[0].message.content == \"Positive\":\n",
    "        return 1\n",
    "    elif response.choices[0].message.content == \"Negative\":\n",
    "        return -1\n",
    "    else:\n",
    "        return 0\n",
    "\n",
    "def list_analyser(lst):\n",
    "    return [sentiment_analysis(i[0]) for i in lst]\n",
    "    \n",
    "def prop_calculator(analysed_lst):\n",
    "    proportion_pos = analysed_lst.count(1) / len(analysed_lst)\n",
    "    proportion_neg = analysed_lst.count(-1) / len(analysed_lst)\n",
    "    return (proportion_pos, proportion_neg)\n"
   ]
  },
  {
   "cell_type": "code",
   "execution_count": null,
   "id": "b4b9264d-3885-4aa7-a770-35a634423139",
   "metadata": {},
   "outputs": [],
   "source": [
    "# alpha = list_analyser(reddit_df['all comments'][0])\n",
    "# alpha[:5]"
   ]
  },
  {
   "cell_type": "code",
   "execution_count": 29,
   "id": "538f5690-2f5e-4148-a9c3-4504a1ce885c",
   "metadata": {},
   "outputs": [
    {
     "data": {
      "text/plain": [
       "Index(['Season', 'Week', 'Day', 'Date', 'Time (ET)', 'Unnamed: 5', 'Favorite',\n",
       "       'Score', 'Spread', 'Unnamed: 9', 'Underdog', 'Over/Under', 'Notes',\n",
       "       'GameHub/RedZone', 'Game thread link?', 'Post-game thread link?',\n",
       "       'Game thread', 'Post game thread', 'GameHub Scraped',\n",
       "       'Game thread scraped', 'Post game thread Scraped',\n",
       "       'Subscribers (in thousands)', 'all comments'],\n",
       "      dtype='object')"
      ]
     },
     "execution_count": 29,
     "metadata": {},
     "output_type": "execute_result"
    }
   ],
   "source": [
    "reddit_df.columns"
   ]
  },
  {
   "cell_type": "code",
   "execution_count": 21,
   "id": "70c3e53a-c49d-4473-9615-d5c122937158",
   "metadata": {},
   "outputs": [
    {
     "data": {
      "text/plain": [
       "ChatCompletion(id='chatcmpl-97Vl5AgFwKuE3U6iygSqyclYhzJEm', choices=[Choice(finish_reason='length', index=0, logprobs=None, message=ChatCompletionMessage(content='Negative', role='assistant', function_call=None, tool_calls=None))], created=1711577403, model='gpt-3.5-turbo-0125', object='chat.completion', system_fingerprint='fp_3bc1b5746c', usage=CompletionUsage(completion_tokens=1, prompt_tokens=147, total_tokens=148))"
      ]
     },
     "execution_count": 21,
     "metadata": {},
     "output_type": "execute_result"
    }
   ],
   "source": [
    "transcription = clean_text(reddit_df['all comments'][0][0][0])\n",
    "response = client.chat.completions.create(\n",
    "        model=\"gpt-3.5-turbo-0125\",\n",
    "        temperature=0,\n",
    "        messages=[\n",
    "            {\n",
    "                \"role\": \"system\",\n",
    "                \"content\": \"As an AI with expertise in language and emotion analysis, your task is to analyze the sentiment of the following comment. This comment was posted on the r/nfl subreddit after a regular season NFL match. Please consider the overall tone of the discussion, the emotion conveyed by the language used, and the context in which words and phrases are used. Use one word to indicate whether the sentiment is generally positive, negative, or neutral. Be careful about sarcastic comments, indicating neutral if you are unsure about the sentiment in a comment.\"\n",
    "            },\n",
    "            {\n",
    "                \"role\": \"user\",\n",
    "                \"content\": transcription\n",
    "            }\n",
    "        ],\n",
    "        max_tokens=1\n",
    "    )\n",
    "response"
   ]
  },
  {
   "cell_type": "code",
   "execution_count": null,
   "id": "8ef9fdf7-a011-47b1-80a3-406dd39cff97",
   "metadata": {},
   "outputs": [
    {
     "name": "stdout",
     "output_type": "stream",
     "text": [
      "Scraped 0\n",
      "Last 5 problematic rows: []\n"
     ]
    }
   ],
   "source": [
    "problematic_rows = []\n",
    "props = []\n",
    "for index, row in reddit_df.iterrows():\n",
    "    if index % 50 == 0:\n",
    "        print(f\"Scraped {index}\")\n",
    "        print(f\"Last 5 problematic rows: {problematic_rows[-5:]}\")\n",
    "    try:\n",
    "        props.append(prop_calculator(list_analyser(row['all comments'])))\n",
    "    except:\n",
    "        problematic_rows.append(index)\n",
    "        props.append(np.NaN)\n",
    "    pd.DataFrame({'props': props}).to_csv('progress.csv')\n",
    "print(f\"Scraped {len(reddit_df)}; Finished\")\n",
    "print(f\"Last 5 problematic rows: {problematic_rows[-5:]}\")"
   ]
  },
  {
   "cell_type": "code",
   "execution_count": 1,
   "id": "c9726b7a-ef2f-4e30-bf27-b026995cebbf",
   "metadata": {},
   "outputs": [
    {
     "ename": "NameError",
     "evalue": "name 'props' is not defined",
     "output_type": "error",
     "traceback": [
      "\u001b[0;31m---------------------------------------------------------------------------\u001b[0m",
      "\u001b[0;31mNameError\u001b[0m                                 Traceback (most recent call last)",
      "Cell \u001b[0;32mIn[1], line 1\u001b[0m\n\u001b[0;32m----> 1\u001b[0m props\n",
      "\u001b[0;31mNameError\u001b[0m: name 'props' is not defined"
     ]
    }
   ],
   "source": [
    "props"
   ]
  },
  {
   "cell_type": "code",
   "execution_count": null,
   "id": "775f8fcc-a10a-4e8e-86f0-3da7ae14aa55",
   "metadata": {},
   "outputs": [],
   "source": [
    "problematic_rows"
   ]
  },
  {
   "cell_type": "code",
   "execution_count": null,
   "id": "ac2e2e8e-4937-4d3b-a521-7ed09325cec8",
   "metadata": {},
   "outputs": [],
   "source": []
  }
 ],
 "metadata": {
  "kernelspec": {
   "display_name": "Python [conda env:sklearn-env]",
   "language": "python",
   "name": "conda-env-sklearn-env-py"
  },
  "language_info": {
   "codemirror_mode": {
    "name": "ipython",
    "version": 3
   },
   "file_extension": ".py",
   "mimetype": "text/x-python",
   "name": "python",
   "nbconvert_exporter": "python",
   "pygments_lexer": "ipython3",
   "version": "3.11.0"
  }
 },
 "nbformat": 4,
 "nbformat_minor": 5
}
